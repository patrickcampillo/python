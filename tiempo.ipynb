{
 "cells": [
  {
   "cell_type": "code",
   "execution_count": null,
   "metadata": {},
   "outputs": [],
   "source": [
    "#Presentación"
   ]
  },
  {
   "cell_type": "code",
   "execution_count": null,
   "metadata": {},
   "outputs": [],
   "source": [
    "print(\"Este programa calcula a cuantas semanas, días, horas, minutos y segundos equivalen la cantidad de segundos introducida.\")"
   ]
  },
  {
   "cell_type": "code",
   "execution_count": null,
   "metadata": {},
   "outputs": [],
   "source": [
    "#Pedir los datos"
   ]
  },
  {
   "cell_type": "code",
   "execution_count": null,
   "metadata": {},
   "outputs": [],
   "source": [
    "tseg=int(input(\"Introduce los segundos deseados: \"))"
   ]
  },
  {
   "cell_type": "code",
   "execution_count": null,
   "metadata": {},
   "outputs": [],
   "source": [
    "#Cálculo de las semanas, días, horas, minutos y segundos"
   ]
  },
  {
   "cell_type": "code",
   "execution_count": null,
   "metadata": {},
   "outputs": [],
   "source": [
    "# 1 semana = 604800 segundos\n",
    "sem=int(tseg/604800)\n",
    "\n",
    "# 1 día = 86400 segundos\n",
    "dias=int((tseg-sem*604800)/86400)\n",
    "\n",
    "# 1 hora = 3600 segundos\n",
    "horas=int((tseg-(sem*604800+dias*86400))/3600)\n",
    "\n",
    "# 1 minuto = 60 segundos\n",
    "minutos=int((tseg-(sem*604800+dias*86400+horas*3600))/60)\n",
    "\n",
    "# Segundos\n",
    "segundos=int(tseg-(sem*604800+dias*86400+horas*3600+minutos*60))"
   ]
  },
  {
   "cell_type": "code",
   "execution_count": null,
   "metadata": {},
   "outputs": [],
   "source": [
    "#Resultado"
   ]
  },
  {
   "cell_type": "code",
   "execution_count": null,
   "metadata": {},
   "outputs": [],
   "source": [
    "print(tseg,\"segundos equivalen a\",sem,\"semanas,\",dias,\"días,\",horas,\"horas\",minutos,\"minutos y\",segundos,\"segundos.\")"
   ]
  }
 ],
 "metadata": {
  "kernelspec": {
   "display_name": "Python 3",
   "language": "python",
   "name": "python3"
  },
  "language_info": {
   "codemirror_mode": {
    "name": "ipython",
    "version": 3
   },
   "file_extension": ".py",
   "mimetype": "text/x-python",
   "name": "python",
   "nbconvert_exporter": "python",
   "pygments_lexer": "ipython3",
   "version": "3.8.6"
  }
 },
 "nbformat": 4,
 "nbformat_minor": 4
}
