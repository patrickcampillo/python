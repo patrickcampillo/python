{
 "cells": [
  {
   "cell_type": "code",
   "execution_count": null,
   "metadata": {},
   "outputs": [],
   "source": [
    "#Presentación"
   ]
  },
  {
   "cell_type": "code",
   "execution_count": null,
   "metadata": {},
   "outputs": [],
   "source": [
    "print(\"Este programa indica la calificación corresondiente a la nota introducida.\")"
   ]
  },
  {
   "cell_type": "code",
   "execution_count": null,
   "metadata": {},
   "outputs": [],
   "source": [
    "#Pedir la nota"
   ]
  },
  {
   "cell_type": "code",
   "execution_count": null,
   "metadata": {},
   "outputs": [],
   "source": [
    "nota = float(input(\"Introduzca la nota obtenida: \"))"
   ]
  },
  {
   "cell_type": "code",
   "execution_count": null,
   "metadata": {},
   "outputs": [],
   "source": [
    "#Comprobaciones y resultado"
   ]
  },
  {
   "cell_type": "code",
   "execution_count": null,
   "metadata": {},
   "outputs": [],
   "source": [
    "if (nota < 5):\n",
    "    print(\"SUSPENSO\")\n",
    "\n",
    "elif ((nota >= 5) and (nota < 6.5)):\n",
    "    print(\"APROBADO\")\n",
    "    \n",
    "elif ((nota >= 6.5) and (nota < 8.5)):\n",
    "    print(\"NOTABLE\")\n",
    "    \n",
    "\n",
    "elif ((nota >= 8.5) and (nota < 10)):\n",
    "    print(\"SOBRESALIENTE\") \n",
    "\n",
    "elif (nota == 10):\n",
    "    print(\"MATRÍCULA\")\n",
    "\n",
    "#Salida por defecto si se introduce una nota no calificable.\n",
    "else:\n",
    "    print(\"El número introducido no es calificable.\")"
   ]
  }
 ],
 "metadata": {
  "kernelspec": {
   "display_name": "Python 3",
   "language": "python",
   "name": "python3"
  },
  "language_info": {
   "codemirror_mode": {
    "name": "ipython",
    "version": 3
   },
   "file_extension": ".py",
   "mimetype": "text/x-python",
   "name": "python",
   "nbconvert_exporter": "python",
   "pygments_lexer": "ipython3",
   "version": "3.8.6"
  }
 },
 "nbformat": 4,
 "nbformat_minor": 4
}
