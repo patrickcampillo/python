{
 "cells": [
  {
   "cell_type": "code",
   "execution_count": null,
   "metadata": {},
   "outputs": [],
   "source": [
    "#Presentación"
   ]
  },
  {
   "cell_type": "code",
   "execution_count": null,
   "metadata": {},
   "outputs": [],
   "source": [
    "print(\"Este programa muestra el número de días de un mes introduciendo el número y el año de este.\")"
   ]
  },
  {
   "cell_type": "code",
   "execution_count": null,
   "metadata": {},
   "outputs": [],
   "source": [
    "#Pedir valores"
   ]
  },
  {
   "cell_type": "code",
   "execution_count": null,
   "metadata": {},
   "outputs": [],
   "source": [
    "mes = int(input(\"Introduce el número del mes: \"))\n",
    "year = int(input(\"Introduce el número de año: \"))"
   ]
  },
  {
   "cell_type": "code",
   "execution_count": null,
   "metadata": {},
   "outputs": [],
   "source": [
    "#Contrastar el número del mes para averiguar la cantidad de días"
   ]
  },
  {
   "cell_type": "code",
   "execution_count": null,
   "metadata": {},
   "outputs": [],
   "source": [
    "if (mes == 1) or (mes == 3) or (mes == 5) or (mes == 7) or (mes == 8) or (mes == 10) or (mes == 12):\n",
    "    print(\"El mes introducido tiene 31 días.\")\n",
    "\n",
    "#Si es febrero hay que comprobar si es año bisiesto.\n",
    "elif (mes == 2):\n",
    "    \n",
    "    #Si es divisible entre 4 es bisiesto.\n",
    "    if year % 4 == 0:\n",
    "        \n",
    "        #Aunque sea divisible entre 4, si es divisble entre 100 puede no ser bisiesto.\n",
    "        if year % 100 == 0:\n",
    "            \n",
    "            #Y sí es divisible entre 100, debe serlo también de 400 para ser bisiesto.\n",
    "            if year % 400 == 0:\n",
    "                print('El mes tiene 29 días.')\n",
    "                \n",
    "            else:\n",
    "                print('El mes tiene 28 días.')\n",
    "                \n",
    "        else:\n",
    "            print('El mes tiene 29 días.')\n",
    "            \n",
    "    else:\n",
    "        print('El mes tiene 28 días.')\n",
    "\n",
    "#Todos los meses no especificados antes tienen 30 días.\n",
    "else:\n",
    "    print(\"El mes tiene 30 días.\")"
   ]
  },
  {
   "cell_type": "code",
   "execution_count": null,
   "metadata": {},
   "outputs": [],
   "source": [
    "#Versión dos"
   ]
  },
  {
   "cell_type": "code",
   "execution_count": null,
   "metadata": {},
   "outputs": [],
   "source": [
    "#Comprobar si es feberero ya que es el único que puede variar.\n",
    "if (mes == 2):\n",
    "    \n",
    "    #Si es divisible entre 4 es bisiesto.\n",
    "    if year % 4 == 0:\n",
    "        \n",
    "        #Aunque sea divisible entre 4, si es divisble entre 100 puede no ser bisiesto.\n",
    "        if year % 100 == 0:\n",
    "            \n",
    "            #Y sí es divisible entre 100, debe serlo también de 400 para ser bisiesto.\n",
    "            if year % 400 == 0:\n",
    "                print('El mes tiene 29 días.')\n",
    "                \n",
    "            else:\n",
    "                print('El mes tiene 28 días.')\n",
    "                \n",
    "        else:\n",
    "            print('El mes tiene 29 días.')\n",
    "            \n",
    "    else:\n",
    "        print('El mes tiene 28 días.')\n",
    "\n",
    "#Comprobar si es par antes de julio o impar desde agosto, para saber si tiene 30 días.\n",
    "elif (((mes % 2 == 0) and (mes <= 7)) or (mes % 2 != 0) and (mes >= 8)):\n",
    "    print(\"El mes tiene 30 días.\")\n",
    "\n",
    "#Se podría comprobar si es par despues de agosto e impar antes de julio, para saber si tiene 31 días.\n",
    "#elif (((mes % 2 == 0) and (mes >= 8)) or (mes % 2 != 0) and (mes <= 7))\n",
    "\n",
    "#Salida por defecto al no cumplir las condiciones anteriores.\n",
    "else:\n",
    "    print(\"El mes introducido tiene 31 días.\")"
   ]
  }
 ],
 "metadata": {
  "kernelspec": {
   "display_name": "Python 3",
   "language": "python",
   "name": "python3"
  },
  "language_info": {
   "codemirror_mode": {
    "name": "ipython",
    "version": 3
   },
   "file_extension": ".py",
   "mimetype": "text/x-python",
   "name": "python",
   "nbconvert_exporter": "python",
   "pygments_lexer": "ipython3",
   "version": "3.8.6"
  }
 },
 "nbformat": 4,
 "nbformat_minor": 4
}
