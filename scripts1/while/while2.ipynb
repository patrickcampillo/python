{
 "cells": [
  {
   "cell_type": "code",
   "execution_count": null,
   "metadata": {},
   "outputs": [],
   "source": [
    "#Presentación"
   ]
  },
  {
   "cell_type": "code",
   "execution_count": null,
   "metadata": {},
   "outputs": [],
   "source": [
    "print(\"Este programa muestra las tablas de multiplicar del 1 al 10.\")"
   ]
  },
  {
   "cell_type": "code",
   "execution_count": null,
   "metadata": {},
   "outputs": [],
   "source": [
    "#Inicializar variables"
   ]
  },
  {
   "cell_type": "code",
   "execution_count": null,
   "metadata": {},
   "outputs": [],
   "source": [
    "i = 0\n",
    "resultado = 0"
   ]
  },
  {
   "cell_type": "code",
   "execution_count": null,
   "metadata": {},
   "outputs": [],
   "source": [
    "#Bucles para realizar las operaciones"
   ]
  },
  {
   "cell_type": "code",
   "execution_count": null,
   "metadata": {},
   "outputs": [],
   "source": [
    "while (i < 10):\n",
    "    #Incremento de variable\n",
    "    i=i+1  \n",
    "    \n",
    "    #Inicialización de la segunda variable\n",
    "    m = 0\n",
    "    \n",
    "    #Bucle que realiza las operaciones\n",
    "    while (m < 10):\n",
    "        #Incremento de variable\n",
    "        m=m+1       \n",
    "        \n",
    "        #Operación\n",
    "        resultado = i * m  \n",
    "        \n",
    "        #Comprobación para añadir saltos de línea entre tablas.\n",
    "        if (m == 10):\n",
    "            print(i, \" x \", m,\" = \", resultado,\"\\n\\n\")\n",
    "        \n",
    "        else:\n",
    "            print(i, \" x \", m,\" = \", resultado)"
   ]
  }
 ],
 "metadata": {
  "kernelspec": {
   "display_name": "Python 3",
   "language": "python",
   "name": "python3"
  },
  "language_info": {
   "codemirror_mode": {
    "name": "ipython",
    "version": 3
   },
   "file_extension": ".py",
   "mimetype": "text/x-python",
   "name": "python",
   "nbconvert_exporter": "python",
   "pygments_lexer": "ipython3",
   "version": "3.8.6"
  }
 },
 "nbformat": 4,
 "nbformat_minor": 4
}
