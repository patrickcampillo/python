{
 "cells": [
  {
   "cell_type": "code",
   "execution_count": null,
   "metadata": {},
   "outputs": [],
   "source": [
    "#Presentación"
   ]
  },
  {
   "cell_type": "code",
   "execution_count": null,
   "metadata": {
    "scrolled": true
   },
   "outputs": [],
   "source": [
    "print(\"Este programa clasifica números enteros introducidos por teclado.\")"
   ]
  },
  {
   "cell_type": "code",
   "execution_count": null,
   "metadata": {},
   "outputs": [],
   "source": [
    "#Pedir número."
   ]
  },
  {
   "cell_type": "code",
   "execution_count": null,
   "metadata": {},
   "outputs": [],
   "source": [
    "num = int(input(\"Introduza un número entero: \"))"
   ]
  },
  {
   "cell_type": "code",
   "execution_count": null,
   "metadata": {},
   "outputs": [],
   "source": [
    "#Comprobar si el número es primo"
   ]
  },
  {
   "cell_type": "code",
   "execution_count": null,
   "metadata": {},
   "outputs": [],
   "source": [
    "#Variable de control sobre la posibilidad de ser número primo\n",
    "primo = 1\n",
    "\n",
    "#Bucle de comprobación de número primo\n",
    "for i in range(2, num):\n",
    "    if (num % i == 0):\n",
    "        primo = 0"
   ]
  },
  {
   "cell_type": "code",
   "execution_count": null,
   "metadata": {},
   "outputs": [],
   "source": [
    "#Comprobar si el número es potencia de base 2"
   ]
  },
  {
   "cell_type": "code",
   "execution_count": null,
   "metadata": {},
   "outputs": [],
   "source": [
    "#Comprobación si el número es 2, ya que al bucle no entraría.\n",
    "if (num == 2):\n",
    "    pot = 1\n",
    "\n",
    "else:\n",
    "    #Variables de control sobre la posibilidad de ser potencia de base 2\n",
    "    resto = num % 2\n",
    "    pot = 0\n",
    "    div = num\n",
    "    \n",
    "    #Bucle de comprobación si es una potencia de base 2\n",
    "    while resto == 0:\n",
    "        div = div / 2\n",
    "        resto = div % 2\n",
    "        \n",
    "        if (div == 2):\n",
    "            pot = 1    "
   ]
  },
  {
   "cell_type": "code",
   "execution_count": null,
   "metadata": {},
   "outputs": [],
   "source": [
    "#Comprobar si el número es mayor que 30.\n",
    "if (num >= 30):\n",
    "    print (\"El número introducido es igual o mayor que 30.\")\n",
    "\n",
    "#Comprobar si el número es negativo.\n",
    "elif (num < 0):\n",
    "    print(\"El número introducido es negativo.\")"
   ]
  },
  {
   "cell_type": "code",
   "execution_count": null,
   "metadata": {},
   "outputs": [],
   "source": [
    "#Mostrar si el número es primo.\n",
    "if (primo == 1):\n",
    "    print (\"El número introducido es primo.\")\n",
    "\n",
    "#Comprobar si es un número compuesto.\n",
    "elif (primo == 0):\n",
    "    print(\"El número es compuesto.\")"
   ]
  },
  {
   "cell_type": "code",
   "execution_count": null,
   "metadata": {},
   "outputs": [],
   "source": [
    "#Mostrar si el número es potencia de base 2.\n",
    "if (pot == 1):\n",
    "    print (\"El número es potencia de base 2.\")"
   ]
  }
 ],
 "metadata": {
  "kernelspec": {
   "display_name": "Python 3",
   "language": "python",
   "name": "python3"
  },
  "language_info": {
   "codemirror_mode": {
    "name": "ipython",
    "version": 3
   },
   "file_extension": ".py",
   "mimetype": "text/x-python",
   "name": "python",
   "nbconvert_exporter": "python",
   "pygments_lexer": "ipython3",
   "version": "3.8.6"
  }
 },
 "nbformat": 4,
 "nbformat_minor": 4
}
