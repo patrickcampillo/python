{
 "cells": [
  {
   "cell_type": "code",
   "execution_count": null,
   "metadata": {},
   "outputs": [],
   "source": [
    "#Presentación"
   ]
  },
  {
   "cell_type": "code",
   "execution_count": null,
   "metadata": {},
   "outputs": [],
   "source": [
    "print(\"Este programa muestra los números perfectos de un interválo introducido. Un número es perfecto si la suma de todos sus divisores(excepto el mismo), son iguales al propio número.\")"
   ]
  },
  {
   "cell_type": "code",
   "execution_count": null,
   "metadata": {},
   "outputs": [],
   "source": [
    "#Pedir números y inicializar variables"
   ]
  },
  {
   "cell_type": "code",
   "execution_count": null,
   "metadata": {},
   "outputs": [],
   "source": [
    "num1 = int(input(\"Introduce el primer número del intervalo: \"))\n",
    "num2 = int(input(\"introduce el segundo número del intervalo: \"))\n",
    "div = 0"
   ]
  },
  {
   "cell_type": "code",
   "execution_count": null,
   "metadata": {},
   "outputs": [],
   "source": [
    "#Comprobación del valor de entrada y bucle para comprobar si es un número perfecto"
   ]
  },
  {
   "cell_type": "code",
   "execution_count": null,
   "metadata": {},
   "outputs": [],
   "source": [
    "if (num2 < num1):\n",
    "    print(\"El segundo número introducido debe ser mayor que el primero.\")\n",
    "\n",
    "elif (num1 < 0) or (num2 < 0):\n",
    "    print(\"El número introducido debe ser positivo.\")\n",
    "        \n",
    "else:\n",
    "    #Primer bucle que irá seleccionando los números a comprobar.\n",
    "    for i in range(num1, num2):\n",
    "        \n",
    "        #Inicio de variable de la suma de divisores.\n",
    "        div = 0\n",
    "        \n",
    "        #Segundo bucle que sumará los divisores de cada número.\n",
    "        for n in range(1, i):\n",
    "            if (i % n == 0):\n",
    "                div = div + n\n",
    "        \n",
    "        #Si la suma de los divisores es igual al número actual del primer bucle, es perfecto.\n",
    "        if (i == div):\n",
    "            print(\"El número\",i,\"es perfecto\")"
   ]
  }
 ],
 "metadata": {
  "kernelspec": {
   "display_name": "Python 3",
   "language": "python",
   "name": "python3"
  },
  "language_info": {
   "codemirror_mode": {
    "name": "ipython",
    "version": 3
   },
   "file_extension": ".py",
   "mimetype": "text/x-python",
   "name": "python",
   "nbconvert_exporter": "python",
   "pygments_lexer": "ipython3",
   "version": "3.8.6"
  }
 },
 "nbformat": 4,
 "nbformat_minor": 4
}
