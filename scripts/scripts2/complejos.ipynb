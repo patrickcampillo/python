{
 "cells": [
  {
   "cell_type": "code",
   "execution_count": null,
   "id": "atlantic-failing",
   "metadata": {},
   "outputs": [],
   "source": [
    "#Presentación"
   ]
  },
  {
   "cell_type": "code",
   "execution_count": null,
   "id": "growing-inspector",
   "metadata": {},
   "outputs": [],
   "source": [
    "print(\"Este programa realiza la multiplicación de números complejos\")"
   ]
  },
  {
   "cell_type": "code",
   "execution_count": null,
   "id": "native-volunteer",
   "metadata": {},
   "outputs": [],
   "source": [
    "#Pedir variables"
   ]
  },
  {
   "cell_type": "code",
   "execution_count": null,
   "id": "sufficient-premises",
   "metadata": {
    "scrolled": true
   },
   "outputs": [],
   "source": [
    "num1 = int(input(\"Introduce el primer valor del primer número complejo: \"))\n",
    "num2 = int(input(\"Introduce el segundo valor (sin i) del primer número complejo: \"))\n",
    "num3 = int(input(\"Introduce el primer valor del segundo número complejo: \"))\n",
    "num4 = int(input(\"Introduce el segundo valor (sin i) del segundo número complejo: \"))"
   ]
  },
  {
   "cell_type": "code",
   "execution_count": null,
   "id": "stopped-finland",
   "metadata": {},
   "outputs": [],
   "source": [
    "#Realizar cálculos"
   ]
  },
  {
   "cell_type": "code",
   "execution_count": null,
   "id": "tropical-revolution",
   "metadata": {},
   "outputs": [],
   "source": [
    "calculo1 = int((num1*num3) + (-(num2*num4)))\n",
    "calculo2 = int((num1*num4) + (num2*num3))"
   ]
  },
  {
   "cell_type": "code",
   "execution_count": null,
   "id": "cheap-fiction",
   "metadata": {},
   "outputs": [],
   "source": [
    "#Comprobar si el segundo valor es positivo para mostrar el símbolo + en el resultado"
   ]
  },
  {
   "cell_type": "code",
   "execution_count": null,
   "id": "broke-drunk",
   "metadata": {},
   "outputs": [],
   "source": [
    "if (calculo2 > 0):\n",
    "    print(\"El resultado es\",calculo1,\"+\",calculo2,\"i\")\n",
    "\n",
    "else:\n",
    "    print(\"El resultado es\",calculo1, calculo2,\"i\")"
   ]
  }
 ],
 "metadata": {
  "kernelspec": {
   "display_name": "Python 3",
   "language": "python",
   "name": "python3"
  },
  "language_info": {
   "codemirror_mode": {
    "name": "ipython",
    "version": 3
   },
   "file_extension": ".py",
   "mimetype": "text/x-python",
   "name": "python",
   "nbconvert_exporter": "python",
   "pygments_lexer": "ipython3",
   "version": "3.9.1+"
  }
 },
 "nbformat": 4,
 "nbformat_minor": 5
}
