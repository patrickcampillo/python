{
 "cells": [
  {
   "cell_type": "code",
   "execution_count": null,
   "id": "native-leader",
   "metadata": {},
   "outputs": [],
   "source": [
    "#Presentación"
   ]
  },
  {
   "cell_type": "code",
   "execution_count": null,
   "id": "frequent-inventory",
   "metadata": {},
   "outputs": [],
   "source": [
    "print(\"Este programa realiza la multiplicación de números complejos\")"
   ]
  },
  {
   "cell_type": "code",
   "execution_count": null,
   "id": "several-breeding",
   "metadata": {},
   "outputs": [],
   "source": [
    "#Pedir valores"
   ]
  },
  {
   "cell_type": "code",
   "execution_count": null,
   "id": "considerable-panic",
   "metadata": {
    "scrolled": true
   },
   "outputs": [],
   "source": [
    "num1 = int(input(\"Introduce la parte real del primer número complejo: \"))\n",
    "num2 = int(input(\"Introduce la parte imaginaria (sin i) del primer número complejo: \"))\n",
    "num3 = int(input(\"Introduce la parte real del segundo número complejo: \"))\n",
    "num4 = int(input(\"Introduce la parte imaginaria (sin i) del segundo número complejo: \"))"
   ]
  },
  {
   "cell_type": "code",
   "execution_count": null,
   "id": "greater-jewelry",
   "metadata": {},
   "outputs": [],
   "source": [
    "#Realizar cálculo de la parte real sabiendo que i al cuadrado es -1, por lo que para evitar fallos al realizar\n",
    "#la potencia de un número negativo, añadimos el simbolo \"-\" delante de la segunda operación."
   ]
  },
  {
   "cell_type": "code",
   "execution_count": null,
   "id": "fourth-concern",
   "metadata": {},
   "outputs": [],
   "source": [
    "calculo_real = int((num1*num3) + (-(num2*num4)))"
   ]
  },
  {
   "cell_type": "code",
   "execution_count": null,
   "id": "patient-parish",
   "metadata": {},
   "outputs": [],
   "source": [
    "#Realizar el cálculo de la parte imaginaria."
   ]
  },
  {
   "cell_type": "code",
   "execution_count": null,
   "id": "legendary-alloy",
   "metadata": {},
   "outputs": [],
   "source": [
    "calculo_imaginario = int((num1*num4) + (num2*num3))"
   ]
  },
  {
   "cell_type": "code",
   "execution_count": null,
   "id": "recorded-finland",
   "metadata": {},
   "outputs": [],
   "source": [
    "#Comprobar si el segundo valor es positivo para mostrar el símbolo + en el resultado, ya que al ser positivo no lo\n",
    "#mostraría. En el caso de ser negativo, no hay problema ya que lo muestra automáticamente."
   ]
  },
  {
   "cell_type": "code",
   "execution_count": null,
   "id": "crazy-description",
   "metadata": {},
   "outputs": [],
   "source": [
    "if (calculo2 > 0):\n",
    "    print(\"El resultado es\",calculo_real,\"+\",calculo_imaginario,\"i\")\n",
    "\n",
    "else:\n",
    "    print(\"El resultado es\",calculo_real, calculo_imaginario,\"i\")"
   ]
  }
 ],
 "metadata": {
  "kernelspec": {
   "display_name": "Python 3",
   "language": "python",
   "name": "python3"
  },
  "language_info": {
   "codemirror_mode": {
    "name": "ipython",
    "version": 3
   },
   "file_extension": ".py",
   "mimetype": "text/x-python",
   "name": "python",
   "nbconvert_exporter": "python",
   "pygments_lexer": "ipython3",
   "version": "3.9.1+"
  }
 },
 "nbformat": 4,
 "nbformat_minor": 5
}
