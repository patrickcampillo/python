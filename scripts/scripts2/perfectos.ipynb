{
 "cells": [
  {
   "cell_type": "code",
   "execution_count": null,
   "metadata": {},
   "outputs": [],
   "source": [
    "#Presentación"
   ]
  },
  {
   "cell_type": "code",
   "execution_count": null,
   "metadata": {},
   "outputs": [],
   "source": [
    "print(\"Este programa averigua si un número es perfecto. Un número es perfecto si la suma de todos sus divisores(excepto el mismo), son iguales al propio número.\")"
   ]
  },
  {
   "cell_type": "code",
   "execution_count": null,
   "metadata": {},
   "outputs": [],
   "source": [
    "#Pedir número y inicializar variables"
   ]
  },
  {
   "cell_type": "code",
   "execution_count": null,
   "metadata": {},
   "outputs": [],
   "source": [
    "num = int(input(\"Introduce un número entero: \"))\n",
    "div = 0"
   ]
  },
  {
   "cell_type": "code",
   "execution_count": null,
   "metadata": {},
   "outputs": [],
   "source": [
    "#Comprobación del valor de entrada y bucle para comprobar si es un número perfecto"
   ]
  },
  {
   "cell_type": "code",
   "execution_count": null,
   "metadata": {},
   "outputs": [],
   "source": [
    "if (num < 0):\n",
    "    print(\"El número introducido debe ser positivo.\")\n",
    "    \n",
    "else:\n",
    "    \n",
    "    for i in range(1, num):\n",
    "    \n",
    "        #Si el resto es 0, añade el número a la suma de divisores\n",
    "        if (num % i == 0):\n",
    "            div = div + i\n",
    "            \n",
    "    #Resultado\n",
    "    if (div == num):\n",
    "        print(\"El número\", num,\"es perfecto.\")\n",
    "\n",
    "    else:\n",
    "        print(\"El número\", num,\"no es perfecto.\")"
   ]
  }
 ],
 "metadata": {
  "kernelspec": {
   "display_name": "Python 3",
   "language": "python",
   "name": "python3"
  },
  "language_info": {
   "codemirror_mode": {
    "name": "ipython",
    "version": 3
   },
   "file_extension": ".py",
   "mimetype": "text/x-python",
   "name": "python",
   "nbconvert_exporter": "python",
   "pygments_lexer": "ipython3",
   "version": "3.8.6"
  }
 },
 "nbformat": 4,
 "nbformat_minor": 4
}
