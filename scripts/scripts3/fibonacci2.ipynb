{
 "cells": [
  {
   "cell_type": "code",
   "execution_count": null,
   "id": "fancy-booking",
   "metadata": {},
   "outputs": [],
   "source": [
    "#Presentación"
   ]
  },
  {
   "cell_type": "code",
   "execution_count": null,
   "id": "distributed-combining",
   "metadata": {},
   "outputs": [],
   "source": [
    "print(\"Este programa calcula el número de parejas de conejos tras pasar x años. Siguiendo la regla de Fibonacci\")"
   ]
  },
  {
   "cell_type": "code",
   "execution_count": null,
   "id": "dental-preliminary",
   "metadata": {},
   "outputs": [],
   "source": [
    "#Pedir años, transformarlo a meses para utilizarlo, e inicializar variables."
   ]
  },
  {
   "cell_type": "code",
   "execution_count": null,
   "id": "cheap-anime",
   "metadata": {},
   "outputs": [],
   "source": [
    "year = int(input(\"Indica el número de años: \"))\n",
    "meses = year * 12\n",
    "parejas = 1\n",
    "nuevas_parejas = 0"
   ]
  },
  {
   "cell_type": "code",
   "execution_count": null,
   "id": "harmful-parish",
   "metadata": {},
   "outputs": [],
   "source": [
    "#Bucle en el cual por cada mes trascurrido almacenamos:\n",
    "#  - Las parejas que ya tenemos.\n",
    "#  - Las que hemos criado ese mes.\n",
    "#  - La suma de estas."
   ]
  },
  {
   "cell_type": "code",
   "execution_count": null,
   "id": "manufactured-origin",
   "metadata": {},
   "outputs": [],
   "source": [
    "for i in range(meses+1):\n",
    "\n",
    "    cria = parejas\n",
    "    parejas = nuevas_parejas\n",
    "    nuevas_parejas = nuevas_parejas + cria"
   ]
  },
  {
   "cell_type": "code",
   "execution_count": null,
   "id": "effective-advocate",
   "metadata": {},
   "outputs": [],
   "source": [
    "#Resultado"
   ]
  },
  {
   "cell_type": "code",
   "execution_count": null,
   "id": "accessible-dependence",
   "metadata": {},
   "outputs": [],
   "source": [
    "print(parejas)"
   ]
  }
 ],
 "metadata": {
  "kernelspec": {
   "display_name": "Python 3",
   "language": "python",
   "name": "python3"
  },
  "language_info": {
   "codemirror_mode": {
    "name": "ipython",
    "version": 3
   },
   "file_extension": ".py",
   "mimetype": "text/x-python",
   "name": "python",
   "nbconvert_exporter": "python",
   "pygments_lexer": "ipython3",
   "version": "3.9.1+"
  }
 },
 "nbformat": 4,
 "nbformat_minor": 5
}
