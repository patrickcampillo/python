{
 "cells": [
  {
   "cell_type": "code",
   "execution_count": null,
   "id": "alien-electron",
   "metadata": {},
   "outputs": [],
   "source": [
    "#Presentación"
   ]
  },
  {
   "cell_type": "code",
   "execution_count": null,
   "id": "confused-glass",
   "metadata": {},
   "outputs": [],
   "source": [
    "print(\"Este programa calcula el mínimo común múltiplo (mcm) de dos numeros.\\nEl mcm corresponde al valor del múltiplo más bajop común de dos números.\")"
   ]
  },
  {
   "cell_type": "code",
   "execution_count": null,
   "id": "vital-pleasure",
   "metadata": {},
   "outputs": [],
   "source": [
    "#Pedir variables de números y establecer variables para realizar los cálculos.\n",
    "#La variable i controla la multiplicacion del 1 al 100.\n",
    "#La variable y controla el rango del cálculo de los múltiplos del número menor.\n",
    "#La variable inicio, indica el inicio del rango y en números grandes facilita el proceso.\n",
    "#La variable mcm almacenará el resultado."
   ]
  },
  {
   "cell_type": "code",
   "execution_count": null,
   "id": "vocal-expert",
   "metadata": {},
   "outputs": [],
   "source": [
    "a = int(input(\"Introduce el primer valor: \"))\n",
    "b = int(input(\"Introduce el segundo valor: \"))\n",
    "i = 1\n",
    "y = 101\n",
    "inicio = 1\n",
    "mcm = 0     "
   ]
  },
  {
   "cell_type": "code",
   "execution_count": null,
   "id": "attractive-world",
   "metadata": {},
   "outputs": [],
   "source": [
    "#Comprobación de que variable es mayor para evitar realizar cálculos con el número más grande\n",
    "#ya que realentiza el programa."
   ]
  },
  {
   "cell_type": "code",
   "execution_count": null,
   "id": "spiritual-excerpt",
   "metadata": {},
   "outputs": [],
   "source": [
    "if a > b:\n",
    "    mayor = a\n",
    "    menor = b\n",
    "\n",
    "else:\n",
    "    mayor = b\n",
    "    menor = a         "
   ]
  },
  {
   "cell_type": "code",
   "execution_count": null,
   "id": "following-comedy",
   "metadata": {},
   "outputs": [],
   "source": [
    "#Bucles de cálculo. El while realiza las operaciones mientras no se encuentre el mcm, y calcula los múltiplos del\n",
    "#número mayor. El bucle for comprueba si los múltiplos del número menor son igual al del mayor en un rango especifíco\n",
    "#si lo encuentra, para el bucle y tendríamos resultado. Por último, incrementamos la variable y añadimos una \n",
    "#comprobación para que reinicie el valor de i si llega a 100, ya que es muy raro que un mcm se encuentre por encima."
   ]
  },
  {
   "cell_type": "code",
   "execution_count": null,
   "id": "three-conservation",
   "metadata": {},
   "outputs": [],
   "source": [
    "while (mcm == 0):\n",
    "    multiplo1 = mayor * i\n",
    "    \n",
    "    for n in range(inicio,y):\n",
    "        multiplo2 = menor * n\n",
    "\n",
    "        if (multiplo1 == multiplo2):\n",
    "            mcm = multiplo2\n",
    "            break\n",
    "    i = i + 1\n",
    "    if i == 100:\n",
    "        y = y + mayor\n",
    "        i = 0"
   ]
  },
  {
   "cell_type": "code",
   "execution_count": null,
   "id": "improved-prior",
   "metadata": {},
   "outputs": [],
   "source": [
    "#Resultado"
   ]
  },
  {
   "cell_type": "code",
   "execution_count": null,
   "id": "acoustic-orange",
   "metadata": {},
   "outputs": [],
   "source": [
    "print(\"El mcm de\", a,\"y\",b, \"es\" ,mcm)"
   ]
  }
 ],
 "metadata": {
  "kernelspec": {
   "display_name": "Python 3",
   "language": "python",
   "name": "python3"
  },
  "language_info": {
   "codemirror_mode": {
    "name": "ipython",
    "version": 3
   },
   "file_extension": ".py",
   "mimetype": "text/x-python",
   "name": "python",
   "nbconvert_exporter": "python",
   "pygments_lexer": "ipython3",
   "version": "3.9.1+"
  }
 },
 "nbformat": 4,
 "nbformat_minor": 5
}
