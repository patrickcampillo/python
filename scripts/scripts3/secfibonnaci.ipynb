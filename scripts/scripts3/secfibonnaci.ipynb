{
 "cells": [
  {
   "cell_type": "code",
   "execution_count": null,
   "id": "living-neighborhood",
   "metadata": {},
   "outputs": [],
   "source": [
    "#Presentación"
   ]
  },
  {
   "cell_type": "code",
   "execution_count": null,
   "id": "hundred-percentage",
   "metadata": {},
   "outputs": [],
   "source": [
    "print(\"Este programa calcula la secuencia de fibonacci mostrando los valores inferiores a 4 millones.\")"
   ]
  },
  {
   "cell_type": "code",
   "execution_count": null,
   "id": "broken-trade",
   "metadata": {},
   "outputs": [],
   "source": [
    "#Inicializar variables para comenzar con la secuencia.\n",
    "#Variable suma_pares para sumar los números pares de la secuencia."
   ]
  },
  {
   "cell_type": "code",
   "execution_count": null,
   "id": "altered-article",
   "metadata": {},
   "outputs": [],
   "source": [
    "a = 1\n",
    "b = 0\n",
    "suma_pares = 0"
   ]
  },
  {
   "cell_type": "code",
   "execution_count": null,
   "id": "monetary-transfer",
   "metadata": {},
   "outputs": [],
   "source": [
    "#Bucle while que controla la secuencia para que no supere los 4 millones.\n",
    "#Añadimos una nueva variable \"temporal\", para ir almacenando el valor de a y no perderlo.\n",
    "#La variable a tomará el valor de b y b tomará el valor de la suma de la variable temporal\n",
    "#y la propia variable b. E iremos mostrando el resultado.\n",
    "\n",
    "#Y como queremos sumar los números pares, iremos comprobando si los valores son pares con \n",
    "#un if, sumandolos a un total."
   ]
  },
  {
   "cell_type": "code",
   "execution_count": null,
   "id": "incomplete-archives",
   "metadata": {},
   "outputs": [],
   "source": [
    "while (b < 4000000):\n",
    "    \n",
    "    newa = a\n",
    "    a = b\n",
    "    b = b + newa\n",
    "    \n",
    "    print(a,\" \" ,end=\"\")\n",
    "    \n",
    "    if ( a % 2 == 0):\n",
    "        suma_pares = suma_pares + a"
   ]
  },
  {
   "cell_type": "code",
   "execution_count": null,
   "id": "verified-amount",
   "metadata": {},
   "outputs": [],
   "source": [
    "#Resultado de la suma de los números pares de la secuencia."
   ]
  },
  {
   "cell_type": "code",
   "execution_count": null,
   "id": "adolescent-river",
   "metadata": {},
   "outputs": [],
   "source": [
    "print(\"\\n\\nLa suma de sus pares es: \",suma_pares)"
   ]
  }
 ],
 "metadata": {
  "kernelspec": {
   "display_name": "Python 3",
   "language": "python",
   "name": "python3"
  },
  "language_info": {
   "codemirror_mode": {
    "name": "ipython",
    "version": 3
   },
   "file_extension": ".py",
   "mimetype": "text/x-python",
   "name": "python",
   "nbconvert_exporter": "python",
   "pygments_lexer": "ipython3",
   "version": "3.9.1+"
  }
 },
 "nbformat": 4,
 "nbformat_minor": 5
}
