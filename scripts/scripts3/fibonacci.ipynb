{
 "cells": [
  {
   "cell_type": "code",
   "execution_count": null,
   "id": "tested-verse",
   "metadata": {},
   "outputs": [],
   "source": [
    "parejas = 1\n",
    "hijos = 1\n",
    "year = int(input(\"Indica el número de años: \"))\n",
    "meses = year * 12"
   ]
  },
  {
   "cell_type": "code",
   "execution_count": null,
   "id": "entitled-northern",
   "metadata": {},
   "outputs": [],
   "source": [
    "def fib(n):\n",
    "    parejas = 1\n",
    "    crias = 0\n",
    "    for i in range(n + 1):\n",
    "        parejas, crias = crias, parejas + crias\n",
    "    return parejas"
   ]
  },
  {
   "cell_type": "code",
   "execution_count": null,
   "id": "postal-wells",
   "metadata": {},
   "outputs": [],
   "source": [
    "fib(meses)"
   ]
  }
 ],
 "metadata": {
  "kernelspec": {
   "display_name": "Python 3",
   "language": "python",
   "name": "python3"
  },
  "language_info": {
   "codemirror_mode": {
    "name": "ipython",
    "version": 3
   },
   "file_extension": ".py",
   "mimetype": "text/x-python",
   "name": "python",
   "nbconvert_exporter": "python",
   "pygments_lexer": "ipython3",
   "version": "3.9.1+"
  }
 },
 "nbformat": 4,
 "nbformat_minor": 5
}
