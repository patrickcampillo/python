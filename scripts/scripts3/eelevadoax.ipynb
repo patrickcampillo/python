{
 "cells": [
  {
   "cell_type": "code",
   "execution_count": null,
   "metadata": {},
   "outputs": [],
   "source": [
    "#Presentación"
   ]
  },
  {
   "cell_type": "code",
   "execution_count": null,
   "metadata": {},
   "outputs": [],
   "source": [
    "print(\"Este progarma cálcula a que equivale e elevado a x.\")"
   ]
  },
  {
   "cell_type": "code",
   "execution_count": null,
   "metadata": {},
   "outputs": [],
   "source": [
    "#Definir funcion para calcular factorial. \n",
    "#De modo que acumule en una variable todos los número multiplicados hasta el valor de i."
   ]
  },
  {
   "cell_type": "code",
   "execution_count": null,
   "metadata": {},
   "outputs": [],
   "source": [
    "def factorial(i):\n",
    "\n",
    "    resul_factor = 1\n",
    "    \n",
    "    for b in range(1, i + 1):\n",
    "\n",
    "        resul_factor = resul_factor * b\n",
    "\n",
    "    return resul_factor"
   ]
  },
  {
   "cell_type": "code",
   "execution_count": null,
   "metadata": {},
   "outputs": [],
   "source": [
    "#Definir función que calculará el valor de e.\n",
    "#Utilizando la regla de 1 + x + x²/2! + x³/3! + ... + n^/n!\n",
    "#Ayudándose de la función factorial para este cálculo."
   ]
  },
  {
   "cell_type": "code",
   "execution_count": null,
   "metadata": {},
   "outputs": [],
   "source": [
    "def calculo(x, rango):\n",
    "\n",
    "    total = 1\n",
    "\n",
    "    for i in range(1, rango + 1):\n",
    "        \n",
    "        if (i == 1):\n",
    "            \n",
    "            total = total + x\n",
    "        \n",
    "        else:\n",
    "\n",
    "            total = total + ((x**i) / factorial(i))\n",
    "\n",
    "    return total"
   ]
  },
  {
   "cell_type": "code",
   "execution_count": null,
   "metadata": {},
   "outputs": [],
   "source": [
    "#Variables"
   ]
  },
  {
   "cell_type": "code",
   "execution_count": null,
   "metadata": {
    "cocalc": {
     "outputs": {
      "0": {
       "name": "input",
       "opts": {
        "password": false,
        "prompt": "Dime un valor para x: "
       },
       "output_type": "stream",
       "value": "5"
      }
     }
    }
   },
   "outputs": [],
   "source": [
    "x = int(input(\"Dime un valor para x: \"))\n",
    "rango = 100"
   ]
  },
  {
   "cell_type": "code",
   "execution_count": null,
   "metadata": {},
   "outputs": [],
   "source": [
    "#Cálculos"
   ]
  },
  {
   "cell_type": "code",
   "execution_count": null,
   "metadata": {
    "scrolled": true
   },
   "outputs": [],
   "source": [
    "resultado = calculo(x, rango)\n",
    "print(resultado)"
   ]
  }
 ],
 "metadata": {
  "kernelspec": {
   "display_name": "Python 3",
   "language": "python",
   "name": "python3"
  },
  "language_info": {
   "codemirror_mode": {
    "name": "ipython",
    "version": 3
   },
   "file_extension": ".py",
   "mimetype": "text/x-python",
   "name": "python",
   "nbconvert_exporter": "python",
   "pygments_lexer": "ipython3",
   "version": "3.9.1+"
  }
 },
 "nbformat": 4,
 "nbformat_minor": 4
}
