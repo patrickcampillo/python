{
 "cells": [
  {
   "cell_type": "code",
   "execution_count": null,
   "id": "nearby-chase",
   "metadata": {},
   "outputs": [],
   "source": [
    "#Presentación"
   ]
  },
  {
   "cell_type": "code",
   "execution_count": null,
   "id": "polished-world",
   "metadata": {},
   "outputs": [],
   "source": [
    "print(\"Este programa calcula la suma de todos los múltiplos de 3 o 5 que esten por debajo de 1000.\")"
   ]
  },
  {
   "cell_type": "code",
   "execution_count": null,
   "id": "alternate-remove",
   "metadata": {},
   "outputs": [],
   "source": [
    "#inciar variables\n",
    "#Variable i para aumentar el número por el que multiplicar\n",
    "#Variable mutliplo3 para condicionar el bucle while\n",
    "#Variable suma_total para almacenar el resultado"
   ]
  },
  {
   "cell_type": "code",
   "execution_count": null,
   "id": "eleven-positive",
   "metadata": {},
   "outputs": [],
   "source": [
    "i = 1\n",
    "multiplo3 = 0\n",
    "suma_total = 0"
   ]
  },
  {
   "cell_type": "code",
   "execution_count": null,
   "id": "desirable-methodology",
   "metadata": {},
   "outputs": [],
   "source": [
    "#Mediante un bucle while que hace las operaciones mientras\n",
    "#la variable multiplo3 no supere 1000, ya que múltiplo5 superará este valor mucho antes.\n",
    "#Se calculan los múltiplos, se incrementa la variable, y se comprueba si son\n",
    "#menores que 1000, si lo son se suman al total y se almacenan, con excepción de\n",
    "#que si los multiplos3 obtenidos tabién lo son de 5 no se almacenen, para no repetir números."
   ]
  },
  {
   "cell_type": "code",
   "execution_count": null,
   "id": "lasting-dodge",
   "metadata": {},
   "outputs": [],
   "source": [
    "while (multiplo3 < 1000) :\n",
    "    multiplo5 = 5 * i\n",
    "    multiplo3 = 3 * i\n",
    "    i = i + 1\n",
    "    \n",
    "    if multiplo5 < 1000:\n",
    "        suma_total = suma_total + multiplo5\n",
    "    \n",
    "    if ((multiplo3 < 1000) and (multiplo3%5 != 0)):\n",
    "        suma_total = suma_total + multiplo3"
   ]
  },
  {
   "cell_type": "code",
   "execution_count": null,
   "id": "coated-living",
   "metadata": {},
   "outputs": [],
   "source": [
    "#Resultado"
   ]
  },
  {
   "cell_type": "code",
   "execution_count": null,
   "id": "continuous-prescription",
   "metadata": {},
   "outputs": [],
   "source": [
    "print(suma_total)"
   ]
  }
 ],
 "metadata": {
  "kernelspec": {
   "display_name": "Python 3",
   "language": "python",
   "name": "python3"
  },
  "language_info": {
   "codemirror_mode": {
    "name": "ipython",
    "version": 3
   },
   "file_extension": ".py",
   "mimetype": "text/x-python",
   "name": "python",
   "nbconvert_exporter": "python",
   "pygments_lexer": "ipython3",
   "version": "3.9.1+"
  }
 },
 "nbformat": 4,
 "nbformat_minor": 5
}
