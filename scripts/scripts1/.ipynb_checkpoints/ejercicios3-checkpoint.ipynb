{
 "cells": [
  {
   "cell_type": "code",
   "execution_count": 5,
   "metadata": {
    "scrolled": true
   },
   "outputs": [
    {
     "name": "stdout",
     "output_type": "stream",
     "text": [
      "Calculadora del volumen de un icosaedro\n",
      "Introduce la longitud de la arista: 2\n",
      "El volumen de un icosaedro de arista 2 es 17.4535599249993\n"
     ]
    }
   ],
   "source": [
    "print(\"Calculadora del volumen de un icosaedro.\")\n",
    "arista=float(input(\"Introduce la longitud de la arista: \"))\n",
    "import math\n",
    "raiz=math.sqrt(5)\n",
    "resul=5/12*(3+raiz)*arista**3\n",
    "print(\"El volumen de un icosaedro de arista\",arista,\"es\",resul)"
   ]
  },
  {
   "cell_type": "code",
   "execution_count": 8,
   "metadata": {},
   "outputs": [
    {
     "name": "stdout",
     "output_type": "stream",
     "text": [
      "Calculadora del volumen de un cilindro.\n",
      "Introduce la altura: 5\n",
      "Introduce la longitud del radio: 2\n",
      "El volumen del cilindro es 62.83185307179586\n"
     ]
    }
   ],
   "source": [
    "print(\"Calculadora del volumen de un cilindro.\")\n",
    "h=float(input(\"Introduce la altura: \"))\n",
    "r=float(input(\"Introduce la longitud del radio: \"))\n",
    "from math import pi\n",
    "resul=h*pi*r**2\n",
    "print(\"El volumen del cilindro es\",resul)"
   ]
  },
  {
   "cell_type": "code",
   "execution_count": 1,
   "metadata": {},
   "outputs": [
    {
     "name": "stdout",
     "output_type": "stream",
     "text": [
      "Calculadora del volumen de una pirámide.\n",
      "Introduce la altura: 5\n",
      "Introduce la longitud del lado de la base: 3\n",
      "El volumen de la piramide es 15.0\n"
     ]
    }
   ],
   "source": [
    "print(\"Calculadora del volumen de una pirámide.\")\n",
    "h=float(input(\"Introduce la altura: \"))\n",
    "l=float(input(\"Introduce la longitud del lado de la base: \"))\n",
    "resul=(h*l**2)/3\n",
    "print(\"El volumen de la piramide es\",resul)"
   ]
  },
  {
   "cell_type": "code",
   "execution_count": 3,
   "metadata": {},
   "outputs": [
    {
     "name": "stdout",
     "output_type": "stream",
     "text": [
      "Calculadora del volumen de una esfera.\n",
      "Introduce la longitud del radio: 6\n",
      "El volumen de la esfera es 904.7786842338603\n"
     ]
    }
   ],
   "source": [
    "print(\"Calculadora del volumen de una esfera.\")\n",
    "r=float(input(\"Introduce la longitud del radio: \"))\n",
    "from math import pi\n",
    "resul=4/3*pi*r**3\n",
    "print(\"El volumen de la esfera es\",resul)"
   ]
  },
  {
   "cell_type": "code",
   "execution_count": 15,
   "metadata": {},
   "outputs": [
    {
     "name": "stdout",
     "output_type": "stream",
     "text": [
      "Calculadora del área de un hexágono.\n",
      "Introduce la longitud de los lados: 8\n",
      "El área del hexágono es 166.27687752661222\n"
     ]
    }
   ],
   "source": [
    "print(\"Calculadora del área de un hexágono.\")\n",
    "l=float(input(\"Introduce la longitud de los lados: \"))\n",
    "import math\n",
    "num=30*math.pi/180\n",
    "tan=math.tan(num)\n",
    "resul=(3*l**2)/(2*tan)\n",
    "print(\"El área del hexágono es\",resul)"
   ]
  },
  {
   "cell_type": "code",
   "execution_count": 17,
   "metadata": {},
   "outputs": [
    {
     "name": "stdout",
     "output_type": "stream",
     "text": [
      "Calculadora del área de un pentágono.\n",
      "Introduce la longitud de los lados: 5\n",
      "El área del pentágono es 43.01193501472417\n"
     ]
    }
   ],
   "source": [
    "print(\"Calculadora del área de un pentágono.\")\n",
    "l=float(input(\"Introduce la longitud de los lados: \"))\n",
    "import math\n",
    "num=36*math.pi/180\n",
    "tan=math.tan(num)\n",
    "resul=(5*l**2)/(4*tan)\n",
    "print(\"El área del pentágono es\",resul)"
   ]
  },
  {
   "cell_type": "code",
   "execution_count": 18,
   "metadata": {},
   "outputs": [
    {
     "name": "stdout",
     "output_type": "stream",
     "text": [
      "Calculadora del área de un cuadrado.\n",
      "Introduce la longitud de los lados: 5\n",
      "El área del cuadrado es 25\n"
     ]
    }
   ],
   "source": [
    "print(\"Calculadora del área de un cuadrado.\")\n",
    "l=float(input(\"Introduce la longitud de los lados: \"))\n",
    "resul=l**2\n",
    "print(\"El área del cuadrado es\",resul)"
   ]
  },
  {
   "cell_type": "code",
   "execution_count": 19,
   "metadata": {},
   "outputs": [
    {
     "name": "stdout",
     "output_type": "stream",
     "text": [
      "Calculadora del área de un cuadrado.\n",
      "Introduce la longitud de la base: 3\n",
      "Introduce la altura: 4\n",
      "El área del triángulo es 6.0\n"
     ]
    }
   ],
   "source": [
    "print(\"Calculadora del área de un triángulo.\")\n",
    "b=float(input(\"Introduce la longitud de la base: \"))\n",
    "h=float(input(\"Introduce la altura: \"))\n",
    "resul=b*h/2\n",
    "print(\"El área del triángulo es\",resul)"
   ]
  },
  {
   "cell_type": "code",
   "execution_count": null,
   "metadata": {},
   "outputs": [],
   "source": []
  }
 ],
 "metadata": {
  "kernelspec": {
   "display_name": "Python 3",
   "language": "python",
   "name": "python3"
  },
  "language_info": {
   "codemirror_mode": {
    "name": "ipython",
    "version": 3
   },
   "file_extension": ".py",
   "mimetype": "text/x-python",
   "name": "python",
   "nbconvert_exporter": "python",
   "pygments_lexer": "ipython3",
   "version": "3.9.1+"
  }
 },
 "nbformat": 4,
 "nbformat_minor": 4
}
