{
 "cells": [
  {
   "cell_type": "code",
   "execution_count": 1,
   "metadata": {
    "scrolled": false
   },
   "outputs": [
    {
     "name": "stdout",
     "output_type": "stream",
     "text": [
      "Esta calculadora realizará la operación que escojas introduciendo el número de esta.\n",
      "1.Suma\n",
      "2.Resta\n",
      "3.Multiplicación\n",
      "4.División\n",
      "5.División absoluta\n",
      "6.Resto de la división\n",
      "7.Potencia\n",
      "8.Salir\n",
      "Indica la operación a realizar: 1\n"
     ]
    }
   ],
   "source": [
    "def calcul():\n",
    "    print(\"Esta calculadora realizará la operación que escojas introduciendo el número de esta.\")\n",
    "    print(\"1.Suma\")\n",
    "    print(\"2.Resta\")\n",
    "    print(\"3.Multiplicación\")\n",
    "    print(\"4.División\")\n",
    "    print(\"5.División absoluta\")\n",
    "    print(\"6.Resto de la división\")\n",
    "    print(\"7.Potencia\")\n",
    "    print(\"8.Salir\")\n",
    "    \n",
    "calcul()\n",
    "ope=int(input(\"Indica la operación a realizar: \"))\n"
   ]
  },
  {
   "cell_type": "code",
   "execution_count": 2,
   "metadata": {},
   "outputs": [
    {
     "name": "stdout",
     "output_type": "stream",
     "text": [
      "Introduce el primer número: 5\n",
      "Introduce el segundo número: 6\n",
      "La suma de los numeros es 11\n",
      "Indica la operación a realizar: 8\n"
     ]
    }
   ],
   "source": [
    "while (ope > 0 and ope < 8):\n",
    "    num1=int(input(\"Introduce el primer número: \"))\n",
    "    num2=int(input(\"Introduce el segundo número: \"))\n",
    "    if ope == 1:\n",
    "        print(\"La suma de los numeros es\", num1+num2)      \n",
    "    elif ope == 2:\n",
    "        print(\"La resta de los numeros es\", num1-num2)\n",
    "    elif ope == 3:\n",
    "        print(\"La multiplación de los numeros es\", num1*num2)\n",
    "    elif ope == 4:\n",
    "        print(\"La división de los numeros es\", num1/num2)\n",
    "    elif ope == 5:\n",
    "        print(\"La división absoluta de los numeros es\", num1//num2)\n",
    "    elif ope == 6:\n",
    "        print(\"El resto de la división es es\", num1%num2)\n",
    "    elif ope == 7:\n",
    "        print(\"La potencia de los numeros es\", num1**num2)\n",
    "    ope=int(input(\"Indica la operación a realizar: \"))"
   ]
  }
 ],
 "metadata": {
  "kernelspec": {
   "display_name": "Python 3",
   "language": "python",
   "name": "python3"
  },
  "language_info": {
   "codemirror_mode": {
    "name": "ipython",
    "version": 3
   },
   "file_extension": ".py",
   "mimetype": "text/x-python",
   "name": "python",
   "nbconvert_exporter": "python",
   "pygments_lexer": "ipython3",
   "version": "3.9.1+"
  }
 },
 "nbformat": 4,
 "nbformat_minor": 4
}
