{
 "cells": [
  {
   "cell_type": "code",
   "execution_count": 36,
   "metadata": {},
   "outputs": [
    {
     "name": "stdout",
     "output_type": "stream",
     "text": [
      "Primer número:2\n",
      "Segundo número:8\n",
      "El resultado de la suma es: 10 .\n",
      "El resultado de la resta es: -6 .\n",
      "El resultado del producto es: 16 .\n",
      "El resultado de la división es: 0.25 .\n",
      "El resultado de la división entera es: 0 .\n",
      "El resultado del resto es: 2 .\n",
      "El resultado de la potencia es: 256 .\n"
     ]
    }
   ],
   "source": [
    "num1=int(input(\"Primer número:\"))\n",
    "num2=int(input(\"Segundo número:\"))\n",
    "suma=num1+num2\n",
    "resta=num1-num2\n",
    "multi=num1*num2\n",
    "divis=num1/num2\n",
    "divisent=num1//num2\n",
    "resto=num1%num2\n",
    "expo=num1**num2\n",
    "print(\"El resultado de la suma es:\" ,suma)\n",
    "print(\"El resultado de la resta es:\" ,resta)\n",
    "print(\"El resultado del producto es:\" ,multi)\n",
    "print(\"El resultado de la división es:\" ,divis)\n",
    "print(\"El resultado de la división entera es:\" ,divisent)\n",
    "print(\"El resultado del resto es:\" ,resto)\n",
    "print(\"El resultado de la potencia es:\" ,expo)"
   ]
  },
  {
   "cell_type": "code",
   "execution_count": 4,
   "metadata": {},
   "outputs": [
    {
     "name": "stdout",
     "output_type": "stream",
     "text": [
      "Cual es el sueldo del trabajador: 3600\n",
      "El trabajador deberá pagar 756.0 €\n"
     ]
    }
   ],
   "source": [
    "sueldo=int(input(\"Cual es el sueldo del trabajador: \"))\n",
    "if sueldo >= 3000:\n",
    "    impuestos=sueldo*0.21\n",
    "    print(\"El trabajador deberá pagar\",impuestos,\"€\")\n",
    "else:\n",
    "    print(\"El trabajador no deberá pagar impuestos.\")"
   ]
  },
  {
   "cell_type": "code",
   "execution_count": null,
   "metadata": {},
   "outputs": [],
   "source": []
  }
 ],
 "metadata": {
  "kernelspec": {
   "display_name": "Python 3",
   "language": "python",
   "name": "python3"
  },
  "language_info": {
   "codemirror_mode": {
    "name": "ipython",
    "version": 3
   },
   "file_extension": ".py",
   "mimetype": "text/x-python",
   "name": "python",
   "nbconvert_exporter": "python",
   "pygments_lexer": "ipython3",
   "version": "3.8.6"
  }
 },
 "nbformat": 4,
 "nbformat_minor": 4
}
