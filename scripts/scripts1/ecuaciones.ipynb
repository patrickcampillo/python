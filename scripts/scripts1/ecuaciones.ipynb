{
 "cells": [
  {
   "cell_type": "code",
   "execution_count": 66,
   "metadata": {},
   "outputs": [],
   "source": [
    "#Presentación"
   ]
  },
  {
   "cell_type": "code",
   "execution_count": 67,
   "metadata": {},
   "outputs": [
    {
     "name": "stdout",
     "output_type": "stream",
     "text": [
      "Este programa calcula ecuaciones cuadráticas introudiendo sus valores.\n"
     ]
    }
   ],
   "source": [
    "print(\"Este programa calcula ecuaciones cuadráticas introudiendo sus valores.\")"
   ]
  },
  {
   "cell_type": "code",
   "execution_count": 68,
   "metadata": {},
   "outputs": [],
   "source": [
    "#Importamos sqrt del módulo math para aplicar raíces cuadradas."
   ]
  },
  {
   "cell_type": "code",
   "execution_count": 69,
   "metadata": {},
   "outputs": [],
   "source": [
    "from math import sqrt"
   ]
  },
  {
   "cell_type": "code",
   "execution_count": 70,
   "metadata": {},
   "outputs": [],
   "source": [
    "#Pedir los valores a introducir."
   ]
  },
  {
   "cell_type": "code",
   "execution_count": 71,
   "metadata": {},
   "outputs": [
    {
     "name": "stdout",
     "output_type": "stream",
     "text": [
      "Ingrese el coeficiente de la variable cuadrática\n",
      "2\n",
      "Ingrese el coeficiente de la variable lineal\n",
      "-14\n",
      "Ingrese el término independiente\n",
      "24\n"
     ]
    }
   ],
   "source": [
    "A = int(input(\"Ingrese el coeficiente de la variable cuadrática\\n\"))\n",
    "B = int(input(\"Ingrese el coeficiente de la variable lineal\\n\"))\n",
    "C = int(input(\"Ingrese el término independiente\\n\"))\n",
    "\n",
    "#Creación de las variables de cálculo.\n",
    "x1= 0\n",
    "x2= 0\n",
    "\n"
   ]
  },
  {
   "cell_type": "code",
   "execution_count": 72,
   "metadata": {},
   "outputs": [],
   "source": [
    "#Cálculo"
   ]
  },
  {
   "cell_type": "code",
   "execution_count": 73,
   "metadata": {},
   "outputs": [
    {
     "name": "stdout",
     "output_type": "stream",
     "text": [
      "Las soluciones son:\n",
      "x =  4.0\n",
      "x =  3.0\n"
     ]
    }
   ],
   "source": [
    "#Comprobación de si la solución no es con números simples.\n",
    "if ((B**2)-4*A*C) < 0:\n",
    "    print(\"La solución de la ecuación es con números complejos.\")\n",
    "    \n",
    "#Cálculo de las ecuaciones.\n",
    "else:\n",
    "    x1 = (-B+sqrt(B**2-(4*A*C)))/(2*A)\n",
    "    x2 = (-B-sqrt(B**2-(4*A*C)))/(2*A)\n",
    "    print(\"Las soluciones son:\")\n",
    "    print(\"x = \", x1)\n",
    "    print(\"x = \", x2)"
   ]
  },
  {
   "cell_type": "code",
   "execution_count": null,
   "metadata": {},
   "outputs": [],
   "source": []
  }
 ],
 "metadata": {
  "kernelspec": {
   "display_name": "Python 3",
   "language": "python",
   "name": "python3"
  },
  "language_info": {
   "codemirror_mode": {
    "name": "ipython",
    "version": 3
   },
   "file_extension": ".py",
   "mimetype": "text/x-python",
   "name": "python",
   "nbconvert_exporter": "python",
   "pygments_lexer": "ipython3",
   "version": "3.8.6"
  }
 },
 "nbformat": 4,
 "nbformat_minor": 4
}
