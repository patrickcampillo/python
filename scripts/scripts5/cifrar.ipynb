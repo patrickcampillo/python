{
 "cells": [
  {
   "cell_type": "code",
   "execution_count": 3,
   "id": "permanent-strain",
   "metadata": {},
   "outputs": [],
   "source": [
    "def leerd(a):\n",
    "    list_files = []\n",
    "    if a:\n",
    "        for i in listdir(a):\n",
    "            list_files.append(i)\n",
    "    else:\n",
    "        return \"EL directorio no existe.\"\n",
    "    \n",
    "    return list_files"
   ]
  },
  {
   "cell_type": "code",
   "execution_count": 4,
   "id": "sacred-repeat",
   "metadata": {},
   "outputs": [],
   "source": [
    "def create_file(a):\n",
    "    if os.path.exists(a):\n",
    "        return \"El archivo ya existe.\"\n",
    "    \n",
    "    else:\n",
    "        f = open(a, 'w').close()\n",
    "    return f"
   ]
  },
  {
   "cell_type": "code",
   "execution_count": 5,
   "id": "dramatic-habitat",
   "metadata": {},
   "outputs": [],
   "source": [
    "def del_file(a):\n",
    "    if os.path.exists(a):\n",
    "        os.remove(a)\n",
    "        \n",
    "    else:\n",
    "        return \"El archivo no existe.\""
   ]
  },
  {
   "cell_type": "code",
   "execution_count": 6,
   "id": "detailed-cancellation",
   "metadata": {},
   "outputs": [],
   "source": [
    "def del_fold(a):\n",
    "    if os.path.exists(a):\n",
    "        os.rmdir(a)\n",
    "        \n",
    "    else:\n",
    "        return \"El directorio no existe.\"    "
   ]
  },
  {
   "cell_type": "code",
   "execution_count": 7,
   "id": "directed-tracy",
   "metadata": {},
   "outputs": [],
   "source": [
    "def cifrar(a):\n",
    "    folder = leerd(a)\n",
    "    carpeta = leerd(folder)\n",
    "        \n",
    "        for i in carpeta:\n",
    "            with open(i, 'rb') as file:\n",
    "                archivo_info = file.read()\n",
    "            crypt = k.encrypt(archivo_info)"
   ]
  },
  {
   "cell_type": "code",
   "execution_count": 8,
   "id": "stylish-aaron",
   "metadata": {},
   "outputs": [],
   "source": [
    "def menu():\n",
    "    print(\"1. Leer directorio.\")\n",
    "    print(\"2. Crear archivo.\")\n",
    "    print(\"3. Borrar archivo.\")\n",
    "    print(\"4. Borrar directorio.\")\n",
    "    print(\"5. Encriptar carpeta.\")\n",
    "    print(\"6. Desencriptar carpeta.\")\n",
    "    print(\"0. Salir.\\n\\n\")"
   ]
  },
  {
   "cell_type": "code",
   "execution_count": 9,
   "id": "worst-illustration",
   "metadata": {},
   "outputs": [],
   "source": [
    "import os\n",
    "from os import listdir\n",
    "from cryptography.fernet import Fernet\n",
    "from Crypto.Cipher import AES\n",
    "from Crypto.Random import get_random_bytes"
   ]
  },
  {
   "cell_type": "code",
   "execution_count": 10,
   "id": "79f5e1ff",
   "metadata": {},
   "outputs": [],
   "source": [
    "#key = get_random_bytes(16)\n",
    "#mode = AES.MODE_EAX\n",
    "#k = AES.new(key, mode)\n",
    "key = Fernet.generate_key()\n",
    "k = Fernet(key)"
   ]
  },
  {
   "cell_type": "code",
   "execution_count": 11,
   "id": "provincial-wagner",
   "metadata": {},
   "outputs": [
    {
     "name": "stdout",
     "output_type": "stream",
     "text": [
      "1. Leer directorio.\n",
      "2. Crear archivo.\n",
      "3. Borrar archivo.\n",
      "4. Borrar directorio.\n",
      "5. Encriptar carpeta.\n",
      "6. Desencriptar carpeta.\n",
      "0. Salir.\n",
      "\n",
      "\n",
      "Escoge una opción: 0\n"
     ]
    }
   ],
   "source": [
    "menu()\n",
    "select=int(input(\"Escoge una opción: \"))\n",
    "while select != 0:\n",
    "    if select == 1:\n",
    "        folder = str(input(\"Introduce la ruta: \"))\n",
    "        carpeta = leerd(folder)\n",
    "        for i in range(0,len(carpeta)):\n",
    "            print(carpeta[i])\n",
    "    \n",
    "    elif select == 2:\n",
    "        file = str(input(\"Introduce el nombre del archivo a crear: \"))\n",
    "        create_file(file)\n",
    "    \n",
    "    elif select == 3:\n",
    "        file = str(input(\"Introduce el nombre del archivo a borrar: \"))\n",
    "        del_file(file)\n",
    "    \n",
    "    elif select == 4:\n",
    "        folder = str(input(\"Introduce el nombre de la carpeta a borrar: \"))\n",
    "        del_fold(file)\n",
    "    \n",
    "    elif select == 5:\n",
    "        folder = str(input(\"Introduce la ruta: \"))\n",
    "            \n",
    "    elif select == 6:\n",
    "        folder = str(input(\"Introduce la ruta: \"))\n",
    "        carpeta = leerd(folder)\n",
    "        for i in range(0,len(carpeta)):\n",
    "            archivo = open(carpeta[i], 'r')\n",
    "            k.decrypt(carpeta[i])            \n",
    "\n",
    "    print(\"\\n\\n\")    \n",
    "    menu()\n",
    "    select=int(input(\"Escoge una opción: \"))\n",
    "    print(\"\\n\\n\") "
   ]
  },
  {
   "cell_type": "code",
   "execution_count": null,
   "id": "33b8fb1d",
   "metadata": {},
   "outputs": [],
   "source": []
  }
 ],
 "metadata": {
  "kernelspec": {
   "display_name": "Python 3",
   "language": "python",
   "name": "python3"
  },
  "language_info": {
   "codemirror_mode": {
    "name": "ipython",
    "version": 3
   },
   "file_extension": ".py",
   "mimetype": "text/x-python",
   "name": "python",
   "nbconvert_exporter": "python",
   "pygments_lexer": "ipython3",
   "version": "3.9.1+"
  }
 },
 "nbformat": 4,
 "nbformat_minor": 5
}
