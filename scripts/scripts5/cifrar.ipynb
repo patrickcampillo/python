{
 "cells": [
  {
   "cell_type": "code",
   "execution_count": null,
   "id": "permanent-strain",
   "metadata": {},
   "outputs": [],
   "source": [
    "def leerd(a):\n",
    "    list_files = []\n",
    "    if a:\n",
    "        for i in listdir(a):\n",
    "            list_files.append(i)\n",
    "    else:\n",
    "        return \"EL directorio no existe.\"\n",
    "    \n",
    "    return list_files"
   ]
  },
  {
   "cell_type": "code",
   "execution_count": null,
   "id": "sacred-repeat",
   "metadata": {},
   "outputs": [],
   "source": [
    "def create_file(a):\n",
    "    if os.path.exists(a):\n",
    "        return \"El archivo ya existe.\"\n",
    "    \n",
    "    else:\n",
    "        f = open(a, 'w').close()\n",
    "    return f"
   ]
  },
  {
   "cell_type": "code",
   "execution_count": null,
   "id": "dramatic-habitat",
   "metadata": {},
   "outputs": [],
   "source": [
    "def del_file(a):\n",
    "    if os.path.exists(a):\n",
    "        os.remove(a)\n",
    "        \n",
    "    else:\n",
    "        return \"El archivo no existe.\""
   ]
  },
  {
   "cell_type": "code",
   "execution_count": null,
   "id": "detailed-cancellation",
   "metadata": {},
   "outputs": [],
   "source": [
    "def del_fold(a):\n",
    "    if os.path.exists(a):\n",
    "        os.rmdir(a)\n",
    "        \n",
    "    else:\n",
    "        return \"El directorio no existe.\"    "
   ]
  },
  {
   "cell_type": "code",
   "execution_count": null,
   "id": "012faaf4",
   "metadata": {},
   "outputs": [],
   "source": [
    "def directorio(a):\n",
    "    return [os.path.join(a, f) for f in os.listdir(a)]"
   ]
  },
  {
   "cell_type": "code",
   "execution_count": null,
   "id": "directed-tracy",
   "metadata": {},
   "outputs": [],
   "source": [
    "def cifrar(a):\n",
    "    carpeta = directorio(a)\n",
    "\n",
    "    for i in carpeta:\n",
    "        file1 = open(i, 'rb')\n",
    "        archivo_info = file1.read()\n",
    "        crypt = k.encrypt(archivo_info)\n",
    "        file2 = open(i, 'wb')\n",
    "        file2.write(crypt)"
   ]
  },
  {
   "cell_type": "code",
   "execution_count": null,
   "id": "6305ee67",
   "metadata": {},
   "outputs": [],
   "source": [
    "def descifrar(a):\n",
    "    carpeta = directorio(a)\n",
    "\n",
    "    for i in carpeta:\n",
    "        file1 = open(i, 'rb')\n",
    "        encrypted_info = file1.read()\n",
    "        decrypt = k.decrypt(encrypted_info)\n",
    "        file2 = open(i, 'wb')\n",
    "        file2.write(decrypt)"
   ]
  },
  {
   "cell_type": "code",
   "execution_count": null,
   "id": "a1692814",
   "metadata": {},
   "outputs": [],
   "source": [
    "def password():\n",
    "    caract = string.ascii_letters+string.digits\n",
    "    contraseña = (\"\").join(random.choice(caract)for i in range(32))\n",
    "    return contraseña"
   ]
  },
  {
   "cell_type": "code",
   "execution_count": null,
   "id": "stylish-aaron",
   "metadata": {},
   "outputs": [],
   "source": [
    "def menu():\n",
    "    print(\"1. Leer directorio.\")\n",
    "    print(\"2. Crear archivo.\")\n",
    "    print(\"3. Borrar archivo.\")\n",
    "    print(\"4. Borrar directorio.\")\n",
    "    print(\"5. Cifrar carpeta.\")\n",
    "    print(\"6. Descifrar carpeta.\")\n",
    "    print(\"0. Salir.\\n\\n\")"
   ]
  },
  {
   "cell_type": "code",
   "execution_count": null,
   "id": "worst-illustration",
   "metadata": {},
   "outputs": [],
   "source": [
    "import os\n",
    "from os import listdir\n",
    "from cryptography.fernet import Fernet\n",
    "from Cryptodome.Cipher import AES\n",
    "from Cryptodome.Random import get_random_bytes\n",
    "from base64 import b64encode, b64decode\n",
    "import hashlib"
   ]
  },
  {
   "cell_type": "code",
   "execution_count": null,
   "id": "79f5e1ff",
   "metadata": {},
   "outputs": [],
   "source": [
    "#password()\n",
    "#salt = get_random_bytes(AES.block_size)\n",
    "#key = hashlib.scrypt(\n",
    "#    password.encode(), salt=salt, n=2**14, r=8, p=1, dklen=32)\n",
    "#mode = AES.MODE_GCM\n",
    "#k = AES.new(key, mode)\n",
    "key = Fernet.generate_key()\n",
    "k = Fernet(key)"
   ]
  },
  {
   "cell_type": "code",
   "execution_count": null,
   "id": "provincial-wagner",
   "metadata": {},
   "outputs": [],
   "source": [
    "menu()\n",
    "select=int(input(\"Escoge una opción: \"))\n",
    "while select != 0:\n",
    "    if select == 1:\n",
    "        folder = str(input(\"Introduce la ruta: \"))\n",
    "        carpeta = leerd(folder)\n",
    "        for i in range(0,len(carpeta)):\n",
    "            print(carpeta[i])\n",
    "    \n",
    "    elif select == 2:\n",
    "        file = str(input(\"Introduce el nombre del archivo a crear: \"))\n",
    "        create_file(file)\n",
    "    \n",
    "    elif select == 3:\n",
    "        file = str(input(\"Introduce el nombre del archivo a borrar: \"))\n",
    "        del_file(file)\n",
    "    \n",
    "    elif select == 4:\n",
    "        folder = str(input(\"Introduce el nombre de la carpeta a borrar: \"))\n",
    "        del_fold(file)\n",
    "    \n",
    "    elif select == 5:\n",
    "        folder = str(input(\"Introduce la ruta: \"))\n",
    "        cifrar(folder)\n",
    "            \n",
    "    elif select == 6:\n",
    "        folder = str(input(\"Introduce la ruta: \"))          \n",
    "        descifrar(folder)\n",
    "        \n",
    "    print(\"\\n\\n\")    \n",
    "    menu()\n",
    "    select=int(input(\"Escoge una opción: \"))\n",
    "    print(\"\\n\\n\") "
   ]
  }
 ],
 "metadata": {
  "kernelspec": {
   "display_name": "Python 3",
   "language": "python",
   "name": "python3"
  },
  "language_info": {
   "codemirror_mode": {
    "name": "ipython",
    "version": 3
   },
   "file_extension": ".py",
   "mimetype": "text/x-python",
   "name": "python",
   "nbconvert_exporter": "python",
   "pygments_lexer": "ipython3",
   "version": "3.9.2"
  }
 },
 "nbformat": 4,
 "nbformat_minor": 5
}
