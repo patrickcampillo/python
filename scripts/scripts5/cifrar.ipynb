{
 "cells": [
  {
   "cell_type": "code",
   "execution_count": null,
   "id": "permanent-strain",
   "metadata": {},
   "outputs": [],
   "source": [
    "def leerd(a):         #Función que lee directorios, utilizando una lista para almacenar lo que el directorio contiene,\n",
    "                      #para después devolver la lista.\n",
    "    list_files = []\n",
    "    \n",
    "    if a:             #Comprueba que el directorio existe.\n",
    "        for i in listdir(a):\n",
    "            list_files.append(i)\n",
    "            \n",
    "    else:             #Si no existe devuelve el mensaje de error.\n",
    "        return \"EL directorio no existe.\"\n",
    "    \n",
    "    return list_files"
   ]
  },
  {
   "cell_type": "code",
   "execution_count": null,
   "id": "sacred-repeat",
   "metadata": {},
   "outputs": [],
   "source": [
    "def create_file(a):   #Función que crea un fichero vació con el nombre en el directorio en el que nos encontramos.\n",
    "    \n",
    "    if os.path.exists(a):  #Comprobando que el fichero no existe.\n",
    "        return \"El archivo ya existe.\"\n",
    "    \n",
    "    else:             #Escribe un fichero vacío con el nombre indicado.\n",
    "        f = open(a, 'w').close()\n",
    "    return f"
   ]
  },
  {
   "cell_type": "code",
   "execution_count": null,
   "id": "dramatic-habitat",
   "metadata": {},
   "outputs": [],
   "source": [
    "def del_file(a):       #Función que elimina un fichero, comprobando si existe\n",
    "    if os.path.exists(a):\n",
    "        os.remove(a)\n",
    "        \n",
    "    else:\n",
    "        return \"El archivo no existe.\""
   ]
  },
  {
   "cell_type": "code",
   "execution_count": null,
   "id": "detailed-cancellation",
   "metadata": {},
   "outputs": [],
   "source": [
    "def del_fold(a):     #función que elimina un directorio comprobado si existe\n",
    "    if os.path.exists(a):\n",
    "        os.rmdir(a)\n",
    "        \n",
    "    else:\n",
    "        return \"El directorio no existe.\"    "
   ]
  },
  {
   "cell_type": "code",
   "execution_count": null,
   "id": "012faaf4",
   "metadata": {},
   "outputs": [],
   "source": [
    "def directorio(a):     #Función que lista todos los ficheros de un directorio pero con la ruta absoluta.\n",
    "    return [os.path.join(a, f) for f in os.listdir(a)]"
   ]
  },
  {
   "cell_type": "code",
   "execution_count": null,
   "id": "directed-tracy",
   "metadata": {},
   "outputs": [],
   "source": [
    "def cifrar(a):         #Función que cifra todos los archivos de un directorio.\n",
    "    \n",
    "    carpeta = directorio(a)   #Listamos todos los archivos del directorio introducido introduciendo la ruta absoluta,\n",
    "                              #ya que sino por defecto utiliza el directorio actual.\n",
    "\n",
    "    for i in carpeta:  #Bucle que recorre cada fichero, lo lee como binario, lo almacena en una variable, cifra el contenido\n",
    "                       #vuelve a abrir el fichero y esta vez escribe la información cifrada.\n",
    "            \n",
    "        file1 = open(i, 'rb')       #Variable que abre el fichero para después almacenarlo en otra variable\n",
    "        archivo_info = file1.read()\n",
    "        \n",
    "        crypt = k.encrypt(archivo_info)  #Variable que almacena la información cifrada(utilizando la clave generada) y se la pas\n",
    "                                         #a a la siguiente variable, para que la escriba sobre el fichero.\n",
    "        file2 = open(i, 'wb')\n",
    "        file2.write(crypt)"
   ]
  },
  {
   "cell_type": "code",
   "execution_count": null,
   "id": "6305ee67",
   "metadata": {},
   "outputs": [],
   "source": [
    "def descifrar(a):         #Función que descifra los ficheros de un directorio.\n",
    "    \n",
    "    carpeta = directorio(a)   #Listamos todos los archivos del directorio introducido introduciendo la ruta absoluta,\n",
    "                              #ya que sino por defecto utiliza el directorio actual.\n",
    "\n",
    "    for i in carpeta:     #Bucle que recorre cada fichero, lo lee como binario, lo almacena en una variable, descifra el contenido\n",
    "                          #vuelve a abrir el fichero y esta vez escribe la información descifrada.\n",
    "            \n",
    "        file1 = open(i, 'rb')  #Variable que abre el fichero para después almacenarlo en otra variable\n",
    "        encrypted_info = file1.read()\n",
    "        \n",
    "        decrypt = k.decrypt(encrypted_info)  #Variable que almacena la información descifrada(utilizando la clave generada) y se la pas\n",
    "                                             #a a la siguiente variable, para que la escriba sobre el fichero.\n",
    "        file2 = open(i, 'wb')\n",
    "        file2.write(decrypt)"
   ]
  },
  {
   "cell_type": "code",
   "execution_count": null,
   "id": "a1692814",
   "metadata": {},
   "outputs": [],
   "source": [
    "#def password():   #Función que genera una contraseña para utilizar AES256\n",
    "#    caract = string.ascii_letters+string.digits\n",
    "#    contraseña = (\"\").join(random.choice(caract)for i in range(32))\n",
    "#    return contraseña"
   ]
  },
  {
   "cell_type": "code",
   "execution_count": null,
   "id": "stylish-aaron",
   "metadata": {},
   "outputs": [],
   "source": [
    "def menu():        #función que muestra un menú para realizar las diferentes funciones.\n",
    "    print(\"1. Leer directorio.\")\n",
    "    print(\"2. Crear archivo.\")\n",
    "    print(\"3. Borrar archivo.\")\n",
    "    print(\"4. Borrar directorio.\")\n",
    "    print(\"5. Cifrar carpeta.\")\n",
    "    print(\"6. Descifrar carpeta.\")\n",
    "    print(\"0. Salir.\\n\\n\")"
   ]
  },
  {
   "cell_type": "code",
   "execution_count": 2,
   "id": "worst-illustration",
   "metadata": {},
   "outputs": [],
   "source": [
    "#Importamos las librerias necesarias para realizar las funciones.\n",
    "import os\n",
    "from os import listdir\n",
    "from cryptography.fernet import Fernet\n",
    "from Cryptodome.Cipher import AES\n",
    "from Cryptodome.Random import get_random_bytes\n",
    "from base64 import b64encode, b64decode\n",
    "import hashlib\n",
    "import platform"
   ]
  },
  {
   "cell_type": "code",
   "execution_count": null,
   "id": "available-lawyer",
   "metadata": {},
   "outputs": [],
   "source": [
    "##Pruebas con AES 256"
   ]
  },
  {
   "cell_type": "code",
   "execution_count": null,
   "id": "inside-postcard",
   "metadata": {},
   "outputs": [],
   "source": [
    "#password()\n",
    "#salt = get_random_bytes(AES.block_size)\n",
    "#key = hashlib.scrypt(\n",
    "#    password.encode(), salt=salt, n=2**14, r=8, p=1, dklen=32)\n",
    "#mode = AES.MODE_GCM\n",
    "#k = AES.new(key, mode)"
   ]
  },
  {
   "cell_type": "code",
   "execution_count": null,
   "id": "close-semester",
   "metadata": {},
   "outputs": [],
   "source": [
    "#Generar y almacenar la clave para cifrar y descifrar"
   ]
  },
  {
   "cell_type": "code",
   "execution_count": null,
   "id": "79f5e1ff",
   "metadata": {},
   "outputs": [],
   "source": [
    "key = Fernet.generate_key()\n",
    "k = Fernet(key)"
   ]
  },
  {
   "cell_type": "code",
   "execution_count": null,
   "id": "provincial-wagner",
   "metadata": {},
   "outputs": [],
   "source": [
    "menu()    #Mostramos el menú y pedimos la opción a realizar\n",
    "select=int(input(\"Escoge una opción: \"))\n",
    "\n",
    "while select != 0:     #Bucle para que el progarama no finalice hasta que el usuario lo desee.\n",
    "    \n",
    "    if select == 1:   #Lista directorios utilizando la función leerd y un bucle para mostrar cada fichero\n",
    "        folder = str(input(\"Introduce la ruta: \"))\n",
    "        carpeta = leerd(folder)\n",
    "        for i in range(0,len(carpeta)):\n",
    "            print(carpeta[i])\n",
    "    \n",
    "    elif select == 2:  #Crea archivo vació con el nombre deseado.\n",
    "        file = str(input(\"Introduce el nombre del archivo a crear: \"))\n",
    "        create_file(file)\n",
    "    \n",
    "    elif select == 3:  #Elimina un archivo introduciendo el nombre(directorio actual) o la ruta absoluta.\n",
    "        file = str(input(\"Introduce el nombre del archivo a borrar: \"))\n",
    "        del_file(file)\n",
    "    \n",
    "    elif select == 4:  #Elimina un directorio introduciendo el nombre(directorio actual) o la ruta absoluta\n",
    "        folder = str(input(\"Introduce el nombre de la carpeta a borrar: \"))\n",
    "        del_fold(file)\n",
    "    \n",
    "    elif select == 5: #Cifra un directorio mediante la función cifrar, introduciendo la ruta absoluta, y utilizando la clave generada con fernet.\n",
    "        folder = str(input(\"Introduce la ruta: \"))\n",
    "        cifrar(folder)\n",
    "            \n",
    "    elif select == 6:  #Descifra un directorio mediante la función descifrar, introduciendo la ruta absoluta, y utilizando la clave generada con fernet.\n",
    "        folder = str(input(\"Introduce la ruta: \"))          \n",
    "        descifrar(folder)\n",
    "        \n",
    "    print(\"\\n\\n\")    \n",
    "    menu()\n",
    "    select=int(input(\"Escoge una opción: \"))\n",
    "    print(\"\\n\\n\") "
   ]
  }
 ],
 "metadata": {
  "kernelspec": {
   "display_name": "Python 3",
   "language": "python",
   "name": "python3"
  },
  "language_info": {
   "codemirror_mode": {
    "name": "ipython",
    "version": 3
   },
   "file_extension": ".py",
   "mimetype": "text/x-python",
   "name": "python",
   "nbconvert_exporter": "python",
   "pygments_lexer": "ipython3",
   "version": "3.9.1+"
  }
 },
 "nbformat": 4,
 "nbformat_minor": 5
}
