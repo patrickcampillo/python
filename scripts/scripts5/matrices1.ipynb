{
 "cells": [
  {
   "cell_type": "code",
   "execution_count": null,
   "id": "stopped-salon",
   "metadata": {},
   "outputs": [],
   "source": [
    "matriz = [[1, 4, 5, 12],\n",
    "    [-5, 8, 9, 0],\n",
    "    [-6, 7, 11, 19],\n",
    "    [8, 12, -6, 9]]"
   ]
  },
  {
   "cell_type": "code",
   "execution_count": null,
   "id": "fuzzy-request",
   "metadata": {},
   "outputs": [],
   "source": [
    "def show_matrix(a):\n",
    "    for i in a:\n",
    "        for valor in i:\n",
    "            print(\"\\t\", valor, end=\" \")\n",
    "        print()"
   ]
  },
  {
   "cell_type": "code",
   "execution_count": null,
   "id": "focal-water",
   "metadata": {},
   "outputs": [],
   "source": [
    "def sum_matrix(a):\n",
    "    suma = 0\n",
    "    for i in a:\n",
    "        posicion1 = 1\n",
    "        for num in i:\n",
    "            if ( contador != i ):\n",
    "                suma += num \n",
    "    return suma            "
   ]
  },
  {
   "cell_type": "code",
   "execution_count": null,
   "id": "civil-colonial",
   "metadata": {},
   "outputs": [],
   "source": [
    "show_matrix(matriz)\n",
    "resultado = (sum_matrix(matriz))\n",
    "print(resultado)"
   ]
  },
  {
   "cell_type": "code",
   "execution_count": null,
   "id": "divine-authentication",
   "metadata": {},
   "outputs": [],
   "source": []
  }
 ],
 "metadata": {
  "kernelspec": {
   "display_name": "Python 3",
   "language": "python",
   "name": "python3"
  },
  "language_info": {
   "codemirror_mode": {
    "name": "ipython",
    "version": 3
   },
   "file_extension": ".py",
   "mimetype": "text/x-python",
   "name": "python",
   "nbconvert_exporter": "python",
   "pygments_lexer": "ipython3",
   "version": "3.9.1+"
  }
 },
 "nbformat": 4,
 "nbformat_minor": 5
}
