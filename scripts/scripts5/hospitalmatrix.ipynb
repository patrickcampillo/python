{
 "cells": [
  {
   "cell_type": "code",
   "execution_count": null,
   "id": "932272ad",
   "metadata": {},
   "outputs": [],
   "source": [
    "def menu():\n",
    "    print(\"1. Añadir paciente.\")\n",
    "    print(\"2. Ver paciente.\")\n",
    "    print(\"3. Modificar paciente.\")\n",
    "    print(\"4. Eliminar paciente.\")\n",
    "    print(\"0. Salir.\\n\\n\")"
   ]
  },
  {
   "cell_type": "code",
   "execution_count": null,
   "id": "e13951ab",
   "metadata": {},
   "outputs": [],
   "source": [
    "def add_person(a,b,c):\n",
    "    comp = comprobar(c)\n",
    "    print(comp)\n",
    "    if comprobar(c) != \"<class 'int'>\":\n",
    "        print(\"El telefono solo debe incluir números.\")\n",
    "        \n",
    "    elif comprobar(a) != \"<class 'str'>\" and comprobar(b) != \"<class 'str'>\":\n",
    "        print(\"El nombre y apellido solo debe contener letras.\")\n",
    "        \n",
    "    else:\n",
    "        datos = a, b, c\n",
    "        pacientes.append(datos)\n",
    "        return pacientes"
   ]
  },
  {
   "cell_type": "code",
   "execution_count": 49,
   "id": "3cec3cdc",
   "metadata": {},
   "outputs": [],
   "source": [
    "def comp_int(a):\n",
    "    return isinstance(a, int)"
   ]
  },
  {
   "cell_type": "code",
   "execution_count": null,
   "id": "d0520e1c",
   "metadata": {},
   "outputs": [],
   "source": [
    "pacientes = []\n",
    "nombre = str(input(\"Nombre: \"))\n",
    "apellidos = str(input(\"Apellidos: \"))\n",
    "tlf = int(input(\"Telefóno: \"))\n",
    "print(add_person(nombre,apellidos,tlf))"
   ]
  },
  {
   "cell_type": "code",
   "execution_count": 51,
   "id": "e24044b5",
   "metadata": {},
   "outputs": [
    {
     "name": "stdout",
     "output_type": "stream",
     "text": [
      "OK\n"
     ]
    }
   ],
   "source": [
    "\n",
    "if comp_int(tlf) == False:\n",
    "    print(\"no\")\n",
    "\n",
    "else:\n",
    "    print(\"OK\")"
   ]
  },
  {
   "cell_type": "code",
   "execution_count": null,
   "id": "d9ef4475",
   "metadata": {},
   "outputs": [],
   "source": [
    "print(add_person(nombre,apellidos,tlf))"
   ]
  },
  {
   "cell_type": "code",
   "execution_count": null,
   "id": "ca0b0518",
   "metadata": {},
   "outputs": [],
   "source": []
  }
 ],
 "metadata": {
  "kernelspec": {
   "display_name": "Python 3",
   "language": "python",
   "name": "python3"
  },
  "language_info": {
   "codemirror_mode": {
    "name": "ipython",
    "version": 3
   },
   "file_extension": ".py",
   "mimetype": "text/x-python",
   "name": "python",
   "nbconvert_exporter": "python",
   "pygments_lexer": "ipython3",
   "version": "3.9.2"
  }
 },
 "nbformat": 4,
 "nbformat_minor": 5
}
