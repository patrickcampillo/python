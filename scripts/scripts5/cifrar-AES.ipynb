{
 "cells": [
  {
   "cell_type": "code",
   "execution_count": null,
   "id": "systematic-mainstream",
   "metadata": {},
   "outputs": [],
   "source": [
    "def pad(s):    #funcioón que rellena los datos que se le pasen para que llegue a ocupar un tamaño de bloque válido\n",
    "    return s + b\"\\0\" * (AES.block_size - len(s) %AES.block_size)"
   ]
  },
  {
   "cell_type": "code",
   "execution_count": null,
   "id": "portuguese-creation",
   "metadata": {},
   "outputs": [],
   "source": [
    "def tipo_key(datos):   #Función que comprueba si la clave es un string y rellena con * para que llegue a tener 32\n",
    "                       #bytes y la codifica. Si la clave ya son bytes, solo se asegura que llegue a tener los \n",
    "                       #32 bytes de longitud.\n",
    "    if(type(datos) is str):\n",
    "        datos = bytes((\"*\"*(32-len(datos)) + datos).encode(\"utf-8\"))\n",
    "    \n",
    "    if(type(datos) is bytes):\n",
    "        datos = b\"*\"*(32-len(datos)) + datos\n",
    "    \n",
    "    return datos"
   ]
  },
  {
   "cell_type": "code",
   "execution_count": null,
   "id": "sticky-passenger",
   "metadata": {},
   "outputs": [],
   "source": [
    "def tipo_datos(datos):  #Función que comprueba que los datos son de tipo string y los codifica\n",
    "    \n",
    "    if(type(datos) is str):\n",
    "        datos = bytes(datos.encode(\"utf-8\"))\n",
    "        \n",
    "    return datos"
   ]
  },
  {
   "cell_type": "code",
   "execution_count": null,
   "id": "a1692814",
   "metadata": {},
   "outputs": [],
   "source": [
    "def password():   #Función que genera una contraseña de 32 bytes para utilizar AES256\n",
    "    caract = string.ascii_letters + string.digits\n",
    "    contraseña = (\"\").join(secrets.choice(caract)for i in range(32))\n",
    "    return contraseña"
   ]
  },
  {
   "cell_type": "code",
   "execution_count": null,
   "id": "dental-bubble",
   "metadata": {},
   "outputs": [],
   "source": [
    "def encrypt(mensaje, key, key_size=256):  #Función que genera las variables de encriptado, utilizando\n",
    "                                          #las funciones tipo_key() y pad() para asegurar la copatibilidad con el AES256\n",
    "        \n",
    "    key = tipo_key(key)                   #Se establece la clave para cifrar realizando las comprobaciones con tipo_key()\n",
    "    mensaje = pad(tipo_datos(mensaje))    #Se establece el mensaje a cifrar asegurandose de que su tamaño cumpla los requisitos usando la función pad()\n",
    "    iv = Random.new().read(AES.block_size)\n",
    "    cipher = AES.new(key, AES.MODE_CBC, iv) \n",
    "    return iv + cipher.encrypt(mensaje)"
   ]
  },
  {
   "cell_type": "code",
   "execution_count": null,
   "id": "caring-union",
   "metadata": {},
   "outputs": [],
   "source": [
    "def decrypt(ciphertext, key):  #Función que genera las variables para desencriptar, utilizando la contraseña generada antes\n",
    "    \n",
    "    # rellenamos con * para que la contrasena pueda tener 32 bytes\n",
    "    key = tipo_key(key)\n",
    "    ciphertext = tipo_datos(ciphertext)\n",
    "    iv = ciphertext[:AES.block_size]\n",
    "    cipher = AES.new(key, AES.MODE_CBC, iv)\n",
    "    plaintext = cipher.decrypt(ciphertext[AES.block_size:])\n",
    "    \n",
    "    return plaintext.rstrip(b\"\\0\")   #Elimina todos los valores \\0 que se habían utilizado para que el tamaño fuera compatible con el AES256"
   ]
  },
  {
   "cell_type": "code",
   "execution_count": null,
   "id": "permanent-strain",
   "metadata": {},
   "outputs": [],
   "source": [
    "def leerd(a):         #Función que lee directorios, utilizando una lista para almacenar lo que el directorio contiene,\n",
    "                      #para después devolver la lista.\n",
    "    list_files = []\n",
    "    \n",
    "    if a:             #Comprueba que el directorio existe.\n",
    "        for i in listdir(a):\n",
    "            list_files.append(i)\n",
    "            \n",
    "    else:             #Si no existe devuelve el mensaje de error.\n",
    "        return \"EL directorio no existe.\"\n",
    "    \n",
    "    return list_files"
   ]
  },
  {
   "cell_type": "code",
   "execution_count": null,
   "id": "sacred-repeat",
   "metadata": {},
   "outputs": [],
   "source": [
    "def create_file(a):   #Función que crea un fichero vació con el nombre en el directorio en el que nos encontramos.\n",
    "    \n",
    "    if os.path.exists(a):  #Comprobando que el fichero no existe.\n",
    "        return \"El archivo ya existe.\"\n",
    "    \n",
    "    else:             #Escribe un fichero vacío con el nombre indicado.\n",
    "        f = open(a, 'w').close()\n",
    "    return f"
   ]
  },
  {
   "cell_type": "code",
   "execution_count": null,
   "id": "dramatic-habitat",
   "metadata": {},
   "outputs": [],
   "source": [
    "def del_file(a):       #Función que elimina un fichero, comprobando si existe\n",
    "    if os.path.exists(a):\n",
    "        os.remove(a)\n",
    "        \n",
    "    else:\n",
    "        return \"El archivo no existe.\""
   ]
  },
  {
   "cell_type": "code",
   "execution_count": null,
   "id": "detailed-cancellation",
   "metadata": {},
   "outputs": [],
   "source": [
    "def del_fold(a):     #función que elimina un directorio comprobado si existe\n",
    "    if os.path.exists(a):\n",
    "        os.rmdir(a)\n",
    "        \n",
    "    else:\n",
    "        return \"El directorio no existe.\"    "
   ]
  },
  {
   "cell_type": "code",
   "execution_count": null,
   "id": "012faaf4",
   "metadata": {},
   "outputs": [],
   "source": [
    "def directorio(a):     #Función que lista todos los ficheros de un directorio pero con la ruta absoluta.\n",
    "    return [os.path.join(a, f) for f in os.listdir(a)]"
   ]
  },
  {
   "cell_type": "code",
   "execution_count": null,
   "id": "directed-tracy",
   "metadata": {},
   "outputs": [],
   "source": [
    "def cifrar(a):         #Función que cifra todos los archivos de un directorio.\n",
    "    \n",
    "    carpeta = directorio(a)   #Listamos todos los archivos del directorio introducido introduciendo la ruta absoluta,\n",
    "                              #ya que sino por defecto utiliza el directorio actual.\n",
    "\n",
    "    for i in carpeta:  #Bucle que recorre cada fichero, lo lee como binario, lo almacena en una variable, cifra el contenido\n",
    "                       #vuelve a abrir el fichero y esta vez escribe la información cifrada.\n",
    "            \n",
    "        file1 = open(i, 'rb')       #Variable que abre el fichero para después poder almacenar el contenido en otra variable\n",
    "        archivo_info = file1.read()\n",
    "        \n",
    "        crypt = encrypt(archivo_info, key)  #Variable que almacena la información cifrada, utilizando la clave generada y \n",
    "                                            #la función encrypt\n",
    "            \n",
    "        file2 = open(i, 'wb')               #Se modifica la información que contenía el archivo por la cifrada\n",
    "        file2.write(crypt)\n",
    "    \n",
    "    k_file = open(\"k.txt\", \"w\")    #Alamacenamos la clave por si no podemos descifrar en el momento y lo queremos hacer más tarde\n",
    "    k_file.write(key)"
   ]
  },
  {
   "cell_type": "code",
   "execution_count": null,
   "id": "6305ee67",
   "metadata": {},
   "outputs": [],
   "source": [
    "def descifrar(a):         #Función que descifra los ficheros de un directorio.\n",
    "    \n",
    "    carpeta = directorio(a)   #Listamos todos los archivos del directorio introducido introduciendo la ruta absoluta,\n",
    "                              #ya que sino por defecto utiliza el directorio actual.\n",
    "\n",
    "    for i in carpeta:     #Bucle que recorre cada fichero, lo lee como binario, lo almacena en una variable, descifra el contenido\n",
    "                          #vuelve a abrir el fichero y esta vez escribe la información descifrada.\n",
    "            \n",
    "        file1 = open(i, 'rb')  #Variable que abre el fichero para después poder almacenar el contenido en otra variable\n",
    "        encrypted_info = file1.read()\n",
    "        \n",
    "        decrypting = decrypt(encrypted_info,key)  #Variable que almacena la información descifrada, utilizando la clave anterior y \n",
    "                                                  #la función decrypt\n",
    "            \n",
    "        file2 = open(i, 'wb')  #Se modifica la información que contenía el archivo por la descifrada\n",
    "        file2.write(decrypting)"
   ]
  },
  {
   "cell_type": "code",
   "execution_count": null,
   "id": "stylish-aaron",
   "metadata": {},
   "outputs": [],
   "source": [
    "def menu():        #función que muestra un menú para realizar las diferentes funciones.\n",
    "    print(\"1. Leer directorio.\")\n",
    "    print(\"2. Crear archivo.\")\n",
    "    print(\"3. Borrar archivo.\")\n",
    "    print(\"4. Borrar directorio.\")\n",
    "    print(\"5. Cifrar carpeta.\")\n",
    "    print(\"6. Descifrar carpeta.\")\n",
    "    print(\"0. Salir.\\n\\n\")"
   ]
  },
  {
   "cell_type": "code",
   "execution_count": null,
   "id": "worst-illustration",
   "metadata": {},
   "outputs": [],
   "source": [
    "#Importamos las librerias necesarias para realizar las funciones.\n",
    "import os\n",
    "from os import listdir\n",
    "from Cryptodome.Cipher import AES\n",
    "from Cryptodome import Random\n",
    "import string\n",
    "import secrets"
   ]
  },
  {
   "cell_type": "code",
   "execution_count": 13,
   "id": "marine-smooth",
   "metadata": {},
   "outputs": [],
   "source": [
    "key = password()"
   ]
  },
  {
   "cell_type": "code",
   "execution_count": null,
   "id": "provincial-wagner",
   "metadata": {},
   "outputs": [],
   "source": [
    "menu()    #Mostramos el menú y pedimos la opción a realizar\n",
    "select=int(input(\"Escoge una opción: \"))\n",
    "\n",
    "while select != 0:     #Bucle para que el progarama no finalice hasta que el usuario lo desee.\n",
    "    \n",
    "    if select == 1:   #Lista directorios utilizando la función leerd y un bucle para mostrar cada fichero\n",
    "        folder = str(input(\"Introduce la ruta: \"))\n",
    "        carpeta = leerd(folder)\n",
    "        for i in range(0,len(carpeta)):\n",
    "            print(carpeta[i])\n",
    "    \n",
    "    elif select == 2:  #Crea archivo vació con el nombre deseado.\n",
    "        file = str(input(\"Introduce el nombre del archivo a crear: \"))\n",
    "        create_file(file)\n",
    "    \n",
    "    elif select == 3:  #Elimina un archivo introduciendo el nombre(directorio actual) o la ruta absoluta.\n",
    "        file = str(input(\"Introduce el nombre del archivo a borrar: \"))\n",
    "        del_file(file)\n",
    "    \n",
    "    elif select == 4:  #Elimina un directorio introduciendo el nombre(directorio actual) o la ruta absoluta\n",
    "        folder = str(input(\"Introduce el nombre de la carpeta a borrar: \"))\n",
    "        del_fold(file)\n",
    "    \n",
    "    elif select == 5: #Cifra un directorio mediante la función cifrar, introduciendo la ruta absoluta, y utilizando la clave generada con fernet.\n",
    "        folder = str(input(\"Introduce la ruta: \"))\n",
    "        cifrar(folder)\n",
    "            \n",
    "    elif select == 6:  #Descifra un directorio mediante la función descifrar, introduciendo la ruta absoluta, y utilizando la clave generada con fernet.\n",
    "        folder = str(input(\"Introduce la ruta: \"))          \n",
    "        descifrar(folder)\n",
    "        \n",
    "    print(\"\\n\\n\")    \n",
    "    menu()\n",
    "    select=int(input(\"Escoge una opción: \"))\n",
    "    print(\"\\n\\n\") "
   ]
  }
 ],
 "metadata": {
  "kernelspec": {
   "display_name": "Python 3",
   "language": "python",
   "name": "python3"
  },
  "language_info": {
   "codemirror_mode": {
    "name": "ipython",
    "version": 3
   },
   "file_extension": ".py",
   "mimetype": "text/x-python",
   "name": "python",
   "nbconvert_exporter": "python",
   "pygments_lexer": "ipython3",
   "version": "3.9.1+"
  }
 },
 "nbformat": 4,
 "nbformat_minor": 5
}
