{
 "cells": [
  {
   "cell_type": "code",
   "execution_count": 1,
   "id": "intense-coordination",
   "metadata": {},
   "outputs": [],
   "source": [
    "#Mínimo común divisor"
   ]
  },
  {
   "cell_type": "code",
   "execution_count": 2,
   "id": "threatened-journalist",
   "metadata": {},
   "outputs": [],
   "source": [
    "def mcd(a,b):   \n",
    "      \n",
    "    i = menor\n",
    "    r = 0\n",
    "    \n",
    "    while (r == 0):\n",
    "        calc = mayor % i\n",
    "        \n",
    "        for n in range(menor, 1, -1):\n",
    "            calc2 = menor % n\n",
    "            \n",
    "            if ((calc == 0) and (calc2 == 0) and (i == n)):\n",
    "                r = i\n",
    "                break\n",
    "                \n",
    "        i = i - 1\n",
    "        if i == 0:\n",
    "            r = 1\n",
    "        \n",
    "    return r\n",
    "\n",
    "\n",
    "#resultado = mcd(a,b)\n",
    "#print(\"El máximo común divisor de los dos números es\", resultado)"
   ]
  },
  {
   "cell_type": "code",
   "execution_count": 3,
   "id": "corresponding-creature",
   "metadata": {},
   "outputs": [],
   "source": [
    "#Mínimo común múltiplo"
   ]
  },
  {
   "cell_type": "code",
   "execution_count": 4,
   "id": "neither-framing",
   "metadata": {},
   "outputs": [],
   "source": [
    "def mcm(a,b):\n",
    "    big(a,b)\n",
    "    small(a,b)\n",
    "    r = 0\n",
    "    i = 1\n",
    "    \n",
    "    while (r == 0):\n",
    "        \n",
    "        calc = mayor * i\n",
    "    \n",
    "        for n in range(inicio,y):\n",
    "            calc2 = menor * n\n",
    "\n",
    "            if (calc == calc2):\n",
    "                r = calc2\n",
    "                break\n",
    "        i = i + 1\n",
    "        if i == 100:\n",
    "            y = y + mayor\n",
    "            i = 1\n",
    "            inicio = inicio + 100\n",
    "            \n",
    "    return r"
   ]
  },
  {
   "cell_type": "code",
   "execution_count": 5,
   "id": "official-problem",
   "metadata": {},
   "outputs": [],
   "source": [
    "#Simplificar fracciones"
   ]
  },
  {
   "cell_type": "code",
   "execution_count": 6,
   "id": "placed-cream",
   "metadata": {},
   "outputs": [],
   "source": [
    "def simplificaf(a,b):\n",
    "    \n",
    "    for n in range(menor+1,1,-1):\n",
    "        calc = a % n\n",
    "        calc2 = b % n\n",
    "        \n",
    "        if ((calc == 0) and (calc2 == 0)):\n",
    "            a = a // n\n",
    "            b = b // n\n",
    "            \n",
    "    if negativo == 1:\n",
    "        a = a * -1\n",
    "        \n",
    "    return a,b"
   ]
  },
  {
   "cell_type": "code",
   "execution_count": 7,
   "id": "agreed-composite",
   "metadata": {},
   "outputs": [],
   "source": [
    "def leerf(a,b):   #Función que lee una fracción asegurandose de que el denominador no sea 0 y numerador y denominador sean\n",
    "                  #primos entre si.\n",
    "        if b == 0:\n",
    "            print(\"El denominador no puede ser 0\")\n",
    "        elif ((a%b == 0) and (b != 1)) :\n",
    "            print(\"El numerador y denominador no pueden ser divisibles entre ellos.\")\n",
    "        return a,b"
   ]
  },
  {
   "cell_type": "code",
   "execution_count": 8,
   "id": "preliminary-fisher",
   "metadata": {},
   "outputs": [],
   "source": [
    "def escribef(a,b):   #Función que se encarga de escribir una fracción.\n",
    "    \n",
    "    leerf(a,b)\n",
    "    fraccion = a,b\n",
    "    return a,b"
   ]
  },
  {
   "cell_type": "code",
   "execution_count": 9,
   "id": "loaded-relations",
   "metadata": {},
   "outputs": [],
   "source": [
    "def sumarf(frac1,frac2): #Función que realia la suma de fracciones.\n",
    "    \n",
    "    mcm(frac1[1],frac2[1])\n",
    "    num1 = (r / frac1[1]) * frac1[0]\n",
    "    num2 = (r / frac2[1]) * frac2[0]\n",
    "    sumanumerador = num1 + num2\n",
    "    \n",
    "    return sumanumerador,mcm"
   ]
  },
  {
   "cell_type": "code",
   "execution_count": 10,
   "id": "overhead-reduction",
   "metadata": {},
   "outputs": [],
   "source": [
    "#def restarf(fra1,fra2): #Función que realiza la resta de fracciones"
   ]
  },
  {
   "cell_type": "code",
   "execution_count": 11,
   "id": "thick-cooking",
   "metadata": {},
   "outputs": [],
   "source": [
    "#def multiplicarf(fra1,fra2): #Función que realiza la multiplicación de fracciones"
   ]
  },
  {
   "cell_type": "code",
   "execution_count": 12,
   "id": "amateur-clarity",
   "metadata": {},
   "outputs": [],
   "source": [
    "#def dividirf(fra1,fra2): #Función que realiza la división de fracciones"
   ]
  },
  {
   "cell_type": "code",
   "execution_count": 13,
   "id": "satisfactory-masters",
   "metadata": {},
   "outputs": [],
   "source": [
    "def leerfracciones(): #Función que se encarga de leer 2 fraccciones\n",
    "    \n",
    "    for i in range(1,3):\n",
    "        \n",
    "        if i == 1:\n",
    "            leerf(a,b)\n",
    "            frac1 = escribef(a,b)\n",
    "            \n",
    "        elif i == 2:\n",
    "            leerf(c,d)\n",
    "            frac2 = escribef(c,d)\n",
    "    return frac1,frac2"
   ]
  },
  {
   "cell_type": "code",
   "execution_count": 21,
   "id": "noble-church",
   "metadata": {},
   "outputs": [],
   "source": [
    "def big(a,b):\n",
    "    if ((a > b) and (b > 0)):\n",
    "        mayor = a\n",
    "    elif ((b > a) and (a > 0)):\n",
    "        mayor = b\n",
    "          \n",
    "    return mayor"
   ]
  },
  {
   "cell_type": "code",
   "execution_count": 22,
   "id": "effective-synthetic",
   "metadata": {},
   "outputs": [],
   "source": [
    "def small(a,b):\n",
    "    if ((a > b) and (b > 0)):\n",
    "        menor = b\n",
    "\n",
    "    elif ((b > a) and (a > 0)):\n",
    "        menor = a\n",
    "          \n",
    "    return menor"
   ]
  },
  {
   "cell_type": "code",
   "execution_count": 17,
   "id": "coastal-sauce",
   "metadata": {},
   "outputs": [],
   "source": [
    "def negativo(a,b):\n",
    "    if (a < 0):\n",
    "        a = a * -1\n",
    "        negativo = 1\n",
    "        if (a > b):\n",
    "            mayor = a\n",
    "            menor = b\n",
    "\n",
    "        else:\n",
    "            mayor = b\n",
    "            menor = a\n",
    "    elif (b < 0):\n",
    "        b = b * -1\n",
    "        negativo = 1\n",
    "        if (b > a):\n",
    "            mayor = b\n",
    "            menor = a\n",
    "\n",
    "        else:\n",
    "            mayor = a\n",
    "            menor = b\n",
    "    "
   ]
  },
  {
   "cell_type": "code",
   "execution_count": null,
   "id": "grand-space",
   "metadata": {
    "scrolled": true
   },
   "outputs": [],
   "source": [
    "a = int(input(\"Introduce el numerado de la segunda fracción: \"))\n",
    "b = int(input(\"Introduce el denominador de la segunda fracción: \"))\n",
    "c = int(input(\"Introduce el numerado de la segunda fracción: \"))\n",
    "d = int(input(\"Introduce el denominador de la segunda fracción: \"))\n",
    "comprobacion(frac1[1],frac2[1])\n",
    "fracciones = leerfracciones()\n",
    "frac1 = fracciones[0]\n",
    "frac2 = fracciones[1]"
   ]
  },
  {
   "cell_type": "code",
   "execution_count": 23,
   "id": "three-census",
   "metadata": {},
   "outputs": [
    {
     "ename": "NameError",
     "evalue": "name 'mayor' is not defined",
     "output_type": "error",
     "traceback": [
      "\u001b[0;31m---------------------------------------------------------------------------\u001b[0m",
      "\u001b[0;31mNameError\u001b[0m                                 Traceback (most recent call last)",
      "\u001b[0;32m<ipython-input-23-6be680081cf8>\u001b[0m in \u001b[0;36m<module>\u001b[0;34m\u001b[0m\n\u001b[0;32m----> 1\u001b[0;31m \u001b[0mmcm\u001b[0m \u001b[0;34m=\u001b[0m \u001b[0mmcm\u001b[0m\u001b[0;34m(\u001b[0m\u001b[0;36m8\u001b[0m\u001b[0;34m,\u001b[0m\u001b[0;36m7\u001b[0m\u001b[0;34m)\u001b[0m\u001b[0;34m\u001b[0m\u001b[0;34m\u001b[0m\u001b[0m\n\u001b[0m\u001b[1;32m      2\u001b[0m \u001b[0mprint\u001b[0m\u001b[0;34m(\u001b[0m\u001b[0mmcm\u001b[0m\u001b[0;34m)\u001b[0m\u001b[0;34m\u001b[0m\u001b[0;34m\u001b[0m\u001b[0m\n",
      "\u001b[0;32m<ipython-input-4-78ec7837da65>\u001b[0m in \u001b[0;36mmcm\u001b[0;34m(a, b)\u001b[0m\n\u001b[1;32m      7\u001b[0m     \u001b[0;32mwhile\u001b[0m \u001b[0;34m(\u001b[0m\u001b[0mr\u001b[0m \u001b[0;34m==\u001b[0m \u001b[0;36m0\u001b[0m\u001b[0;34m)\u001b[0m\u001b[0;34m:\u001b[0m\u001b[0;34m\u001b[0m\u001b[0;34m\u001b[0m\u001b[0m\n\u001b[1;32m      8\u001b[0m \u001b[0;34m\u001b[0m\u001b[0m\n\u001b[0;32m----> 9\u001b[0;31m         \u001b[0mcalc\u001b[0m \u001b[0;34m=\u001b[0m \u001b[0mmayor\u001b[0m \u001b[0;34m*\u001b[0m \u001b[0mi\u001b[0m\u001b[0;34m\u001b[0m\u001b[0;34m\u001b[0m\u001b[0m\n\u001b[0m\u001b[1;32m     10\u001b[0m \u001b[0;34m\u001b[0m\u001b[0m\n\u001b[1;32m     11\u001b[0m         \u001b[0;32mfor\u001b[0m \u001b[0mn\u001b[0m \u001b[0;32min\u001b[0m \u001b[0mrange\u001b[0m\u001b[0;34m(\u001b[0m\u001b[0minicio\u001b[0m\u001b[0;34m,\u001b[0m\u001b[0my\u001b[0m\u001b[0;34m)\u001b[0m\u001b[0;34m:\u001b[0m\u001b[0;34m\u001b[0m\u001b[0;34m\u001b[0m\u001b[0m\n",
      "\u001b[0;31mNameError\u001b[0m: name 'mayor' is not defined"
     ]
    }
   ],
   "source": [
    "mcm = mcm(8,7)\n",
    "print(mcm)"
   ]
  },
  {
   "cell_type": "code",
   "execution_count": null,
   "id": "hollywood-trust",
   "metadata": {},
   "outputs": [],
   "source": []
  }
 ],
 "metadata": {
  "kernelspec": {
   "display_name": "Python 3",
   "language": "python",
   "name": "python3"
  },
  "language_info": {
   "codemirror_mode": {
    "name": "ipython",
    "version": 3
   },
   "file_extension": ".py",
   "mimetype": "text/x-python",
   "name": "python",
   "nbconvert_exporter": "python",
   "pygments_lexer": "ipython3",
   "version": "3.9.1+"
  }
 },
 "nbformat": 4,
 "nbformat_minor": 5
}
