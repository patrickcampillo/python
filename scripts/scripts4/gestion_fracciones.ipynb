{
 "cells": [
  {
   "cell_type": "code",
   "execution_count": null,
   "id": "intense-coordination",
   "metadata": {},
   "outputs": [],
   "source": [
    "#Mínimo común divisor"
   ]
  },
  {
   "cell_type": "code",
   "execution_count": null,
   "id": "threatened-journalist",
   "metadata": {},
   "outputs": [],
   "source": [
    "def mcd(a,b):   \n",
    "      \n",
    "    i = menor\n",
    "    r = 0\n",
    "    \n",
    "    while (r == 0):\n",
    "        calc = mayor % i\n",
    "        \n",
    "        for n in range(menor, 1, -1):\n",
    "            calc2 = menor % n\n",
    "            \n",
    "            if ((calc == 0) and (calc2 == 0) and (i == n)):\n",
    "                r = i\n",
    "                break\n",
    "                \n",
    "        i = i - 1\n",
    "        if i == 0:\n",
    "            r = 1\n",
    "        \n",
    "    return r\n",
    "\n",
    "\n",
    "resultado = mcd(a,b)\n",
    "print(\"El máximo común divisor de los dos números es\", resultado)"
   ]
  },
  {
   "cell_type": "code",
   "execution_count": null,
   "id": "corresponding-creature",
   "metadata": {},
   "outputs": [],
   "source": [
    "#Mínimo común múltiplo"
   ]
  },
  {
   "cell_type": "code",
   "execution_count": null,
   "id": "neither-framing",
   "metadata": {},
   "outputs": [],
   "source": [
    "def mcm(a,b):\n",
    "    \n",
    "    r = 0\n",
    "    i = 1\n",
    "    \n",
    "    while (r == 0):\n",
    "        \n",
    "        calc = mayor * i\n",
    "    \n",
    "        for n in range(inicio,y):\n",
    "            calc2 = menor * n\n",
    "\n",
    "            if (calc == calc2):\n",
    "                r = calc2\n",
    "                break\n",
    "        i = i + 1\n",
    "        if i == 100:\n",
    "            y = y + mayor\n",
    "            i = 1\n",
    "            inicio = inicio + 100\n",
    "            \n",
    "    return r"
   ]
  },
  {
   "cell_type": "code",
   "execution_count": null,
   "id": "official-problem",
   "metadata": {},
   "outputs": [],
   "source": [
    "#Simplificar fracciones"
   ]
  },
  {
   "cell_type": "code",
   "execution_count": null,
   "id": "placed-cream",
   "metadata": {},
   "outputs": [],
   "source": [
    "def simplificaf(a,b):\n",
    "    \n",
    "    for n in range(menor+1,1,-1):\n",
    "        calc = a % n\n",
    "        calc2 = b % n\n",
    "        \n",
    "        if ((calc == 0) and (calc2 == 0)):\n",
    "            a = a // n\n",
    "            b = b // n\n",
    "            \n",
    "    if negativo == 1:\n",
    "        a = a * -1\n",
    "    return a,b\n",
    "\n",
    "a = int(input(\"Introduce el numerador: \"))\n",
    "b = int(input(\"Introduce el denominador: \"))"
   ]
  },
  {
   "cell_type": "code",
   "execution_count": null,
   "id": "analyzed-contractor",
   "metadata": {},
   "outputs": [],
   "source": []
  },
  {
   "cell_type": "code",
   "execution_count": null,
   "id": "agreed-composite",
   "metadata": {},
   "outputs": [],
   "source": [
    "def leerf(a,b):   #Función que lee una fracción asegurandose de que el denominador no sea 0 y numerador y denominador sean\n",
    "                  #primos entre si."
   ]
  },
  {
   "cell_type": "code",
   "execution_count": null,
   "id": "angry-lightweight",
   "metadata": {},
   "outputs": [],
   "source": []
  },
  {
   "cell_type": "code",
   "execution_count": null,
   "id": "preliminary-fisher",
   "metadata": {},
   "outputs": [],
   "source": [
    "def escribef(a,b):   #Función que se encarga de escribir una función."
   ]
  },
  {
   "cell_type": "code",
   "execution_count": null,
   "id": "placed-witness",
   "metadata": {},
   "outputs": [],
   "source": []
  },
  {
   "cell_type": "code",
   "execution_count": null,
   "id": "loaded-relations",
   "metadata": {},
   "outputs": [],
   "source": [
    "def sumarf(a,b): #Realizar restarf, multiplicarf, dividirf"
   ]
  },
  {
   "cell_type": "code",
   "execution_count": null,
   "id": "spanish-america",
   "metadata": {},
   "outputs": [],
   "source": []
  },
  {
   "cell_type": "code",
   "execution_count": null,
   "id": "satisfactory-masters",
   "metadata": {},
   "outputs": [],
   "source": [
    "def leerfracciones(a,b): #Función que se encarga de leer 2 fraccciones"
   ]
  },
  {
   "cell_type": "code",
   "execution_count": null,
   "id": "grand-space",
   "metadata": {},
   "outputs": [],
   "source": [
    "if ((a > b) and (b > 0)):\n",
    "    mayor = a\n",
    "    menor = b\n",
    "\n",
    "elif ((b > a) and (a > 0)):\n",
    "    mayor = b\n",
    "    menor = a\n",
    "\n",
    "elif (a < 0):\n",
    "    a = a * -1\n",
    "    negativo = 1\n",
    "    if (a > b):\n",
    "        mayor = a\n",
    "        menor = b\n",
    "        \n",
    "    else:\n",
    "    mayor = b\n",
    "    menor = a\n",
    "\n",
    "elif (b < 0):\n",
    "    b = b * -1\n",
    "    negativo = 1\n",
    "    if (b > a):\n",
    "        mayor = b\n",
    "        menor = a\n",
    "        \n",
    "    else:\n",
    "        mayor = a\n",
    "        menor = b\n",
    "\n",
    "a = int(input(\"Introduce el primer número: \"))\n",
    "b = int(input(\"Introduce el segundo número: \"))"
   ]
  }
 ],
 "metadata": {
  "kernelspec": {
   "display_name": "Python 3",
   "language": "python",
   "name": "python3"
  },
  "language_info": {
   "codemirror_mode": {
    "name": "ipython",
    "version": 3
   },
   "file_extension": ".py",
   "mimetype": "text/x-python",
   "name": "python",
   "nbconvert_exporter": "python",
   "pygments_lexer": "ipython3",
   "version": "3.9.1+"
  }
 },
 "nbformat": 4,
 "nbformat_minor": 5
}
