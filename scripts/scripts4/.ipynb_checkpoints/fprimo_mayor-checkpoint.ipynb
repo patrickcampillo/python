{
 "cells": [
  {
   "cell_type": "code",
   "execution_count": null,
   "id": "tutorial-berlin",
   "metadata": {},
   "outputs": [],
   "source": [
    "#Presentación"
   ]
  },
  {
   "cell_type": "code",
   "execution_count": null,
   "id": "mathematical-needle",
   "metadata": {},
   "outputs": [],
   "source": [
    "print(\"Este programa calcula el factor primo más grande de un número.\")"
   ]
  },
  {
   "cell_type": "code",
   "execution_count": null,
   "id": "identical-auditor",
   "metadata": {},
   "outputs": [],
   "source": [
    "def factorizacion(num):    #Función que utiliza un bucle infinito para averiguar el factor primo más grande.\n",
    "    while num > 1:\n",
    "        \n",
    "        for i in range(2,num+1):     #Bucle que realiza las operaciones de factorización del número en cuestión,\n",
    "                                     #comprobando y almacenando el primer número por el que al dividirlo da como\n",
    "                                     #resto 0. Una vez almacenado comprueba si es 1, si lo es, almacena el valor de\n",
    "                                     #i y finaliza el bucle. Ya que si el número obtenido es 1, la factorización\n",
    "                                     #habrá finalizado.\n",
    "\n",
    "            if (num%i == 0):\n",
    "                \n",
    "                num = int(num / i)\n",
    "                \n",
    "                if num == 1:\n",
    "                    max_factor = i\n",
    "                    break\n",
    "                    \n",
    "    return max_factor"
   ]
  },
  {
   "cell_type": "code",
   "execution_count": null,
   "id": "greek-horizon",
   "metadata": {},
   "outputs": [],
   "source": [
    "#Variable num, que especifica el número. En este caso es fijo pero se podría realizar pidiéndo el valor también."
   ]
  },
  {
   "cell_type": "code",
   "execution_count": null,
   "id": "controlled-credit",
   "metadata": {},
   "outputs": [],
   "source": [
    "#Valor específicado 600851475143\n",
    "num = 600851475143"
   ]
  },
  {
   "cell_type": "code",
   "execution_count": null,
   "id": "portuguese-stress",
   "metadata": {},
   "outputs": [],
   "source": [
    "#Se llama a la función y la almacenamos en la variable resultado que será la que se muestre."
   ]
  },
  {
   "cell_type": "code",
   "execution_count": null,
   "id": "postal-petite",
   "metadata": {},
   "outputs": [],
   "source": [
    "resultado = factorizacion(num)"
   ]
  },
  {
   "cell_type": "code",
   "execution_count": null,
   "id": "closed-satellite",
   "metadata": {},
   "outputs": [],
   "source": [
    "#Comprobar si el número introducido es primo, ya que si lo es, el max factor primo será el propio número introducido."
   ]
  },
  {
   "cell_type": "code",
   "execution_count": null,
   "id": "russian-contemporary",
   "metadata": {},
   "outputs": [],
   "source": [
    "if num == resultado:\n",
    "    print(\"El número\", num, \"es primo. Por lo que el máximo factor primo es él mismo.\")\n",
    "    \n",
    "else:\n",
    "    print(\"El mayor factor primo del número\", num, \"es\", resultado)"
   ]
  }
 ],
 "metadata": {
  "kernelspec": {
   "display_name": "Python 3",
   "language": "python",
   "name": "python3"
  },
  "language_info": {
   "codemirror_mode": {
    "name": "ipython",
    "version": 3
   },
   "file_extension": ".py",
   "mimetype": "text/x-python",
   "name": "python",
   "nbconvert_exporter": "python",
   "pygments_lexer": "ipython3",
   "version": "3.9.1+"
  }
 },
 "nbformat": 4,
 "nbformat_minor": 5
}
