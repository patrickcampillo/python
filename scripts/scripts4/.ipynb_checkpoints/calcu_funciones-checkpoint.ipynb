{
 "cells": [
  {
   "cell_type": "code",
   "execution_count": null,
   "id": "pregnant-europe",
   "metadata": {},
   "outputs": [],
   "source": [
    "def menu():     #Función que muestra el menú de la calculadora.\n",
    "    print(\"Esta calculadora realizará la operación que escojas introduciendo el número de esta.\")\n",
    "    print(\"1.Suma\")\n",
    "    print(\"2.Resta\")\n",
    "    print(\"3.Multiplicación\")\n",
    "    print(\"4.División\")\n",
    "    print(\"5.División absoluta\")\n",
    "    print(\"6.Resto de la división\")\n",
    "    print(\"7.Potencia\")\n",
    "    print(\"8.Volver a mostrar el menú\")\n",
    "    print(\"0.Salir\\n\")"
   ]
  },
  {
   "cell_type": "code",
   "execution_count": null,
   "id": "active-collect",
   "metadata": {},
   "outputs": [],
   "source": [
    "def suma(num1,num2):      #Función que realiza la suma de los números introducidos.\n",
    "    resultado = num1 + num2\n",
    "    return resultado"
   ]
  },
  {
   "cell_type": "code",
   "execution_count": null,
   "id": "existing-tablet",
   "metadata": {},
   "outputs": [],
   "source": [
    "def resta(num1,num2):     #Función que realiza la resta de los números introducidos.\n",
    "    resultado = num1 - num2\n",
    "    return resultado"
   ]
  },
  {
   "cell_type": "code",
   "execution_count": null,
   "id": "interim-extreme",
   "metadata": {},
   "outputs": [],
   "source": [
    "def multi(num1,num2):     #Función que realiza la multiplicación de los números introducidos.\n",
    "    resultado = num1 * num2\n",
    "    return resultado"
   ]
  },
  {
   "cell_type": "code",
   "execution_count": null,
   "id": "communist-bicycle",
   "metadata": {},
   "outputs": [],
   "source": [
    "def division(num1,num2):  #Función que realiza la división de los números introducidos.\n",
    "    resultado = num1 / num2\n",
    "    return resultado"
   ]
  },
  {
   "cell_type": "code",
   "execution_count": null,
   "id": "israeli-glucose",
   "metadata": {},
   "outputs": [],
   "source": [
    "def division_absoluta(num1,num2):  #Función que realiza la división absoluta de los números introducidos.\n",
    "    resultado = num1 // num2\n",
    "    return resultado"
   ]
  },
  {
   "cell_type": "code",
   "execution_count": null,
   "id": "quick-timing",
   "metadata": {},
   "outputs": [],
   "source": [
    "def resto(num1,num2):     #Función que realiza el cálculo del resto de la división de los números introducidos.\n",
    "    resultado = num1 % num2\n",
    "    return resultado"
   ]
  },
  {
   "cell_type": "code",
   "execution_count": null,
   "id": "remarkable-hearing",
   "metadata": {},
   "outputs": [],
   "source": [
    "def potencia(num1,num2):  #Función que realiza la potenciación del primer número elevado al segundo.\n",
    "    resultado = num1 ** num2\n",
    "    return resultado"
   ]
  },
  {
   "cell_type": "code",
   "execution_count": null,
   "id": "promising-moscow",
   "metadata": {},
   "outputs": [],
   "source": [
    "#Pedimos la opción a realizar"
   ]
  },
  {
   "cell_type": "code",
   "execution_count": null,
   "id": "liquid-chocolate",
   "metadata": {},
   "outputs": [],
   "source": [
    "seleccion=int(input(\"Indica la operación a realizar: \"))"
   ]
  },
  {
   "cell_type": "code",
   "execution_count": null,
   "id": "japanese-hammer",
   "metadata": {},
   "outputs": [],
   "source": [
    "#Iniciamos un bucle, para no tener que ejecutar el programa si se quieren realizar más operaciones.\n",
    "#El bucle llama a la función que necesite para realizar el cálculo de la operación escogida."
   ]
  },
  {
   "cell_type": "code",
   "execution_count": null,
   "id": "legislative-fisher",
   "metadata": {},
   "outputs": [],
   "source": [
    "while (seleccion != 0):\n",
    "    \n",
    "    num1 = int(input(\"\\nIntroduce el primer número: \"))\n",
    "    num2 = int(input(\"Introduce el segundo número: \"))\n",
    "    \n",
    "    if seleccion == 1:\n",
    "        print(\"\\nLa suma de los numeros es\", suma(num1,num2))\n",
    "        \n",
    "    elif seleccion == 2:\n",
    "        print(\"\\nLa resta de los numeros es\", resta(num1,num2))\n",
    "        \n",
    "    elif seleccion == 3:\n",
    "        print(\"\\nLa multiplación de los numeros es\", multi(num1,num2))\n",
    "        \n",
    "    elif seleccion == 4:\n",
    "        print(\"\\nLa división de los numeros es\", division(num1,num2))\n",
    "        \n",
    "    elif seleccion == 5:\n",
    "        print(\"\\nLa división absoluta de los numeros es\", division_absoluta(num1,num2))\n",
    "        \n",
    "    elif seleccion == 6:\n",
    "        print(\"\\nEl resto de la división es es\", resto(num1,num2))\n",
    "        \n",
    "    elif seleccion == 7:\n",
    "        print(\"\\nLa potencia de los numeros es\", potencia(num1,num2))\n",
    "    \n",
    "    elif seleccion == 8:\n",
    "        menu()\n",
    "        \n",
    "    else:\n",
    "        print(\"\\nLa operación escogida no es válida.\")\n",
    "        \n",
    "    seleccion=int(input(\"\\nIndica la operación a realizar: \"))   #Volvemos a pedir operación para no parar el programa."
   ]
  }
 ],
 "metadata": {
  "kernelspec": {
   "display_name": "Python 3",
   "language": "python",
   "name": "python3"
  },
  "language_info": {
   "codemirror_mode": {
    "name": "ipython",
    "version": 3
   },
   "file_extension": ".py",
   "mimetype": "text/x-python",
   "name": "python",
   "nbconvert_exporter": "python",
   "pygments_lexer": "ipython3",
   "version": "3.9.1+"
  }
 },
 "nbformat": 4,
 "nbformat_minor": 5
}
