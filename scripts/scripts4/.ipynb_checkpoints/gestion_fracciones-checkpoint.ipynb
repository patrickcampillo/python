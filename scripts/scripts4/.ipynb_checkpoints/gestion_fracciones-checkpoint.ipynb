{
 "cells": [
  {
   "cell_type": "code",
   "execution_count": null,
   "id": "regional-night",
   "metadata": {},
   "outputs": [],
   "source": [
    "n = int()\n",
    "d = int()\n",
    "import math\n",
    "import scanf"
   ]
  },
  {
   "cell_type": "code",
   "execution_count": null,
   "id": "threatened-journalist",
   "metadata": {},
   "outputs": [],
   "source": [
    "def mcd(n,d):\n",
    "    \n",
    "    r = int()\n",
    "    \n",
    "    n = math.fabs(n)\n",
    "    d = math.fabs(d)\n",
    "    \n",
    "    r = n % d\n",
    "    \n",
    "    while (r != 0):\n",
    "        \n",
    "        n = d\n",
    "        d = r\n",
    "        r = n % d\n",
    "        \n",
    "    return d"
   ]
  },
  {
   "cell_type": "code",
   "execution_count": null,
   "id": "common-potter",
   "metadata": {},
   "outputs": [],
   "source": [
    "def mcm (n,d):\n",
    "    \n",
    "    producto = int()\n",
    "    divisor = int()\n",
    "    valor = int()\n",
    "    \n",
    "    producto = n * d\n",
    "    divisor = mcd(n,d)\n",
    "    valor = producto / divisor\n",
    "    valor = math.fabs(valor)\n",
    "    \n",
    "    return valor"
   ]
  },
  {
   "cell_type": "code",
   "execution_count": null,
   "id": "direct-aquarium",
   "metadata": {},
   "outputs": [],
   "source": [
    "def simplificaf(n,d):\n",
    "    \n",
    "    divisor = int()\n",
    "    divisor = mcd(n,d)\n",
    "    n = n / divisor\n",
    "    d = d / divisor\n",
    "    \n",
    "    if (n * d >= 0):\n",
    "        n = math.fabs(n)\n",
    "        d = math.fabs(d)\n",
    "    \n",
    "    else:\n",
    "        n = -math.fabs(n)\n",
    "        d = math.fabs(d)"
   ]
  },
  {
   "cell_type": "code",
   "execution_count": 32,
   "id": "widespread-theater",
   "metadata": {},
   "outputs": [],
   "source": [
    "def leerf(n,d):\n",
    "    n = int(input(\"Dame numerador\"))\n",
    "    d = int(input(\"Dame denominador\"))\n",
    "    "
   ]
  },
  {
   "cell_type": "code",
   "execution_count": null,
   "id": "suffering-dodge",
   "metadata": {},
   "outputs": [],
   "source": []
  }
 ],
 "metadata": {
  "kernelspec": {
   "display_name": "Python 3",
   "language": "python",
   "name": "python3"
  },
  "language_info": {
   "codemirror_mode": {
    "name": "ipython",
    "version": 3
   },
   "file_extension": ".py",
   "mimetype": "text/x-python",
   "name": "python",
   "nbconvert_exporter": "python",
   "pygments_lexer": "ipython3",
   "version": "3.9.1+"
  }
 },
 "nbformat": 4,
 "nbformat_minor": 5
}
