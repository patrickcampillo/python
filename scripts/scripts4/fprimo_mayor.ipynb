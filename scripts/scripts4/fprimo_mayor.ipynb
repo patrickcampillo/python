{
 "cells": [
  {
   "cell_type": "code",
   "execution_count": null,
   "id": "tutorial-berlin",
   "metadata": {},
   "outputs": [],
   "source": [
    "def primo(i):\n",
    "    primocomp = 0\n",
    "    for n in range(2,i):\n",
    "        \n",
    "        if (num%n == 0):\n",
    "            primocomp = 1\n",
    "            \n",
    "    return primocomp"
   ]
  },
  {
   "cell_type": "code",
   "execution_count": null,
   "id": "identical-auditor",
   "metadata": {},
   "outputs": [],
   "source": [
    "def factorizacion(num):\n",
    "    \n",
    "    for i in range(1,num):\n",
    "        \n",
    "        comp = primo(i)\n",
    "        if (num%i == 0 and comp == 0):\n",
    "            \n",
    "            factor = i\n",
    "            if num/i == 1:\n",
    "                num = 1\n",
    "                break\n",
    "            else:\n",
    "                num = num/i\n",
    "    return num"
   ]
  },
  {
   "cell_type": "code",
   "execution_count": null,
   "id": "controlled-credit",
   "metadata": {},
   "outputs": [],
   "source": [
    "num = 12\n",
    "#600851475143"
   ]
  },
  {
   "cell_type": "code",
   "execution_count": null,
   "id": "postal-petite",
   "metadata": {},
   "outputs": [],
   "source": [
    "while num != 1:\n",
    "    factorizacion(num)"
   ]
  },
  {
   "cell_type": "code",
   "execution_count": null,
   "id": "russian-contemporary",
   "metadata": {},
   "outputs": [],
   "source": [
    "print(\"El mayor factor primo del número num es\", num)"
   ]
  }
 ],
 "metadata": {
  "kernelspec": {
   "display_name": "Python 3",
   "language": "python",
   "name": "python3"
  },
  "language_info": {
   "codemirror_mode": {
    "name": "ipython",
    "version": 3
   },
   "file_extension": ".py",
   "mimetype": "text/x-python",
   "name": "python",
   "nbconvert_exporter": "python",
   "pygments_lexer": "ipython3",
   "version": "3.9.1+"
  }
 },
 "nbformat": 4,
 "nbformat_minor": 5
}
