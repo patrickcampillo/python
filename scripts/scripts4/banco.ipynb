{
 "cells": [
  {
   "cell_type": "code",
   "execution_count": null,
   "id": "interior-woman",
   "metadata": {},
   "outputs": [],
   "source": [
    "def ingreso(a):\n",
    "    saldo = saldo + a\n",
    "    fecha()\n",
    "    operaciones.append(fecha(),\"Ingreso de \",a,\"€\")"
   ]
  },
  {
   "cell_type": "code",
   "execution_count": null,
   "id": "hazardous-invite",
   "metadata": {},
   "outputs": [],
   "source": [
    "def debito():"
   ]
  },
  {
   "cell_type": "code",
   "execution_count": null,
   "id": "interracial-casino",
   "metadata": {},
   "outputs": [],
   "source": [
    "def ver_saldo():"
   ]
  },
  {
   "cell_type": "code",
   "execution_count": null,
   "id": "failing-census",
   "metadata": {},
   "outputs": [],
   "source": [
    "def fecha():\n",
    "    date = datetime.datetime.now().strftime(\"%Y-%m-%d %H:%M:%S\")\n",
    "    \n",
    "    return date"
   ]
  },
  {
   "cell_type": "code",
   "execution_count": null,
   "id": "appointed-declaration",
   "metadata": {},
   "outputs": [],
   "source": [
    "def pago_recibos():"
   ]
  },
  {
   "cell_type": "code",
   "execution_count": null,
   "id": "normal-incentive",
   "metadata": {},
   "outputs": [],
   "source": [
    "def recibo_operacion():"
   ]
  },
  {
   "cell_type": "code",
   "execution_count": null,
   "id": "italic-result",
   "metadata": {},
   "outputs": [],
   "source": [
    "def historiallib():\n",
    "    for i in range(0,len(operaciones)+1):\n",
    "        print(operaciones[i])"
   ]
  },
  {
   "cell_type": "code",
   "execution_count": null,
   "id": "entertaining-peninsula",
   "metadata": {},
   "outputs": [],
   "source": [
    "import random\n",
    "import datetime"
   ]
  },
  {
   "cell_type": "code",
   "execution_count": null,
   "id": "mobile-healthcare",
   "metadata": {},
   "outputs": [],
   "source": [
    "operaciones = list()\n",
    "saldo = random.randrange(1000,5000)\n",
    "#operaciones.append()\n",
    "print(fecha())"
   ]
  }
 ],
 "metadata": {
  "kernelspec": {
   "display_name": "Python 3",
   "language": "python",
   "name": "python3"
  },
  "language_info": {
   "codemirror_mode": {
    "name": "ipython",
    "version": 3
   },
   "file_extension": ".py",
   "mimetype": "text/x-python",
   "name": "python",
   "nbconvert_exporter": "python",
   "pygments_lexer": "ipython3",
   "version": "3.9.1+"
  }
 },
 "nbformat": 4,
 "nbformat_minor": 5
}
