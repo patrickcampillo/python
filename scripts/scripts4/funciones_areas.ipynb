{
 "cells": [
  {
   "cell_type": "code",
   "execution_count": 18,
   "id": "female-athens",
   "metadata": {},
   "outputs": [],
   "source": [
    "#Presentación"
   ]
  },
  {
   "cell_type": "code",
   "execution_count": 19,
   "id": "drawn-aaron",
   "metadata": {},
   "outputs": [
    {
     "name": "stdout",
     "output_type": "stream",
     "text": [
      "Este programa calcula el área o volumén de algunos polígonos a elección.\n"
     ]
    }
   ],
   "source": [
    "print(\"Este programa calcula el área o volumén de algunos polígonos a elección.\")"
   ]
  },
  {
   "cell_type": "code",
   "execution_count": 20,
   "id": "sharing-pottery",
   "metadata": {},
   "outputs": [],
   "source": [
    "def menu():    #Función del menú para elegir operación\n",
    "    print(\"Escoge una de las siguientes opeciones:\")\n",
    "    print(\"1. Área de un triangulo\\n2. Área de un rectángulo\\n3. Área de un pentágono\\n4. Área de un circulo\\n5. Volumen de un icosaedro\\n6. Salir\\n\")"
   ]
  },
  {
   "cell_type": "code",
   "execution_count": 21,
   "id": "leading-hughes",
   "metadata": {},
   "outputs": [],
   "source": [
    "def triangulo(base,altura):     #Función que calcula el área de un triángulo sabiendo que se calcula con la formula\n",
    "                        #(base*altura)/2\n",
    "        area = base*altura/2\n",
    "        return area"
   ]
  },
  {
   "cell_type": "code",
   "execution_count": 22,
   "id": "painful-moscow",
   "metadata": {},
   "outputs": [],
   "source": [
    "def rectangulo(base,altura):     #Función que calcula el área de un rectángulo sabiendo que se calcula con la formula\n",
    "                                 #base*altura\n",
    "        area = base*altura\n",
    "        return area"
   ]
  },
  {
   "cell_type": "code",
   "execution_count": 23,
   "id": "primary-collectible",
   "metadata": {},
   "outputs": [],
   "source": [
    "def pentagono(lado):     #Función que calcula el área de un pentagono sabiendo que se calcula con la formula\n",
    "                         #(5*L²*apotema) / 2\n",
    "        import math\n",
    "        apotema = 36*math.pi/180\n",
    "        tangente = math.tan(apotema)\n",
    "        area = (5*lado**2)/(4*tan)\n",
    "        return area"
   ]
  },
  {
   "cell_type": "code",
   "execution_count": 24,
   "id": "dominant-mechanics",
   "metadata": {},
   "outputs": [],
   "source": [
    "def circulo(radio):      #Función que calcula el área de un círculo sabiendo que se calcula con la formula\n",
    "                         #π*r²\n",
    "        import math\n",
    "        area = math.pi*radio**2\n",
    "        return area"
   ]
  },
  {
   "cell_type": "code",
   "execution_count": 25,
   "id": "biological-tonight",
   "metadata": {},
   "outputs": [],
   "source": [
    "def icosaedro(arista):     #Función que calcula el volumen de un icosaedro sabiendo que se calcula con la formula\n",
    "                           #5/12*(3+raizde5)*arista³\n",
    "        import math\n",
    "        raiz = math.sqrt(5)\n",
    "        area = 5/12*(3+raiz)*arista**3\n",
    "        return area"
   ]
  },
  {
   "cell_type": "code",
   "execution_count": 26,
   "id": "equipped-techno",
   "metadata": {},
   "outputs": [],
   "source": [
    "#Se muestra el menú y se inicia un bucle para ir realizando las operaciones"
   ]
  },
  {
   "cell_type": "code",
   "execution_count": 30,
   "id": "dress-search",
   "metadata": {},
   "outputs": [
    {
     "name": "stdout",
     "output_type": "stream",
     "text": [
      "Escoge una de las siguientes opeciones:\n",
      "1. Área de un triangulo\n",
      "2. Área de un rectángulo\n",
      "3. Área de un pentágono\n",
      "4. Área de un circulo\n",
      "5. Volumen de un icosaedro\n",
      "6. Salir\n",
      "\n",
      "Operación a realizar: 1\n",
      "Longitud de la base: 3\n",
      "Altura del triangulo: 4\n",
      "El área del triángulo es 6.0\n",
      "Operación a realizar: 1\n",
      "Longitud de la base: 6\n",
      "Altura del triangulo: 5\n",
      "El área del triángulo es 15.0\n",
      "Operación a realizar: 6\n"
     ]
    }
   ],
   "source": [
    "menu()\n",
    "opcion = int(input(\"Operación a realizar: \"))\n",
    "\n",
    "while (opcion != 6):\n",
    "    \n",
    "    if opcion == 1:\n",
    "        base = int(input(\"Longitud de la base: \"))\n",
    "        altura = int(input(\"Altura del triangulo: \"))\n",
    "        resultado = triangulo(base,altura)\n",
    "        print(\"El área del triángulo es\",resultado)\n",
    "    else:\n",
    "        break\n",
    "    \n",
    "    opcion = int(input(\"\\n\\nOperación a realizar: \"))"
   ]
  },
  {
   "cell_type": "code",
   "execution_count": null,
   "id": "capital-masters",
   "metadata": {},
   "outputs": [],
   "source": []
  }
 ],
 "metadata": {
  "kernelspec": {
   "display_name": "Python 3",
   "language": "python",
   "name": "python3"
  },
  "language_info": {
   "codemirror_mode": {
    "name": "ipython",
    "version": 3
   },
   "file_extension": ".py",
   "mimetype": "text/x-python",
   "name": "python",
   "nbconvert_exporter": "python",
   "pygments_lexer": "ipython3",
   "version": "3.9.1+"
  }
 },
 "nbformat": 4,
 "nbformat_minor": 5
}
