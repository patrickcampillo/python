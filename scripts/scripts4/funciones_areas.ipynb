{
 "cells": [
  {
   "cell_type": "code",
   "execution_count": null,
   "id": "female-athens",
   "metadata": {},
   "outputs": [],
   "source": [
    "#Presentación"
   ]
  },
  {
   "cell_type": "code",
   "execution_count": null,
   "id": "drawn-aaron",
   "metadata": {},
   "outputs": [],
   "source": [
    "print(\"Este programa calcula el área o volumén de algunos polígonos a elección.\")"
   ]
  },
  {
   "cell_type": "code",
   "execution_count": null,
   "id": "sharing-pottery",
   "metadata": {},
   "outputs": [],
   "source": [
    "def menu():    #Función del menú para elegir operación\n",
    "    print(\"Escoge una de las siguientes opeciones:\")\n",
    "    print(\"1. Área de un triangulo\\n2. Área de un rectángulo\\n3. Área de un pentágono\\n4. Área de un circulo\\n5. Volumen de un icosaedro\\n6. Mostrar el menú\\n0. Salir\\n\")"
   ]
  },
  {
   "cell_type": "code",
   "execution_count": null,
   "id": "leading-hughes",
   "metadata": {},
   "outputs": [],
   "source": [
    "def triangulo(base,altura):     #Función que calcula el área de un triángulo sabiendo que se calcula con la formula\n",
    "                                #(base*altura)/2\n",
    "        area = base*altura/2\n",
    "        return area"
   ]
  },
  {
   "cell_type": "code",
   "execution_count": null,
   "id": "painful-moscow",
   "metadata": {},
   "outputs": [],
   "source": [
    "def rectangulo(base,altura):     #Función que calcula el área de un rectángulo sabiendo que se calcula con la formula\n",
    "                                 #base*altura\n",
    "        area = base*altura\n",
    "        return area"
   ]
  },
  {
   "cell_type": "code",
   "execution_count": null,
   "id": "primary-collectible",
   "metadata": {},
   "outputs": [],
   "source": [
    "def pentagono(lado):     #Función que calcula el área de un pentagono sabiendo que se calcula con la formula\n",
    "                         #(5*L²*apotema) / 2\n",
    "        import math\n",
    "        apotema = 36*math.pi/180\n",
    "        tangente = math.tan(apotema)\n",
    "        area = (5*lado**2)/(4*tangente)\n",
    "        return area"
   ]
  },
  {
   "cell_type": "code",
   "execution_count": null,
   "id": "dominant-mechanics",
   "metadata": {},
   "outputs": [],
   "source": [
    "def circulo(radio):      #Función que calcula el área de un círculo sabiendo que se calcula con la formula\n",
    "                         #π*r²\n",
    "        import math\n",
    "        area = math.pi*radio**2\n",
    "        return area"
   ]
  },
  {
   "cell_type": "code",
   "execution_count": null,
   "id": "biological-tonight",
   "metadata": {},
   "outputs": [],
   "source": [
    "def icosaedro(arista):     #Función que calcula el volumen de un icosaedro sabiendo que se calcula con la formula\n",
    "                           #5/12*(3+raizde5)*arista³\n",
    "        import math\n",
    "        raiz = math.sqrt(5)\n",
    "        area = 5/12*(3+raiz)*arista**3\n",
    "        return area"
   ]
  },
  {
   "cell_type": "code",
   "execution_count": null,
   "id": "equipped-techno",
   "metadata": {},
   "outputs": [],
   "source": [
    "#Se muestra el menú y se inicia un bucle para ir realizando las operaciones"
   ]
  },
  {
   "cell_type": "code",
   "execution_count": null,
   "id": "dress-search",
   "metadata": {},
   "outputs": [],
   "source": [
    "menu()    #Llamada a la función menu\n",
    "\n",
    "opcion = int(input(\"Operación a realizar: \"))   #Pedir el valor de la opción a realizar\n",
    "\n",
    "while (opcion != 0):\n",
    "    \n",
    "    if opcion == 1:     #Llamada a la función triángulo\n",
    "        \n",
    "        base = int(input(\"Longitud de la base: \"))\n",
    "        altura = int(input(\"Altura del triangulo: \"))\n",
    "        resultado = triangulo(base,altura)\n",
    "        print(\"El área del triángulo es\",resultado)\n",
    "        \n",
    "    elif opcion == 2:   #Llamada a la función rectángulo\n",
    "        \n",
    "        base = int(input(\"Longitud de la base: \"))\n",
    "        altura = int(input(\"Altura del rectángulo: \"))\n",
    "        resultado = rectangulo(base,altura)\n",
    "        print(\"El área del rectángulo es\",resultado)\n",
    "    \n",
    "    elif opcion == 3:   #LLamada a la función pentágono\n",
    "        \n",
    "        lado = int(input(\"Longitud del lado: \"))\n",
    "        resultado = pentagono(lado)\n",
    "        print(\"El área del pentángono es\",resultado)\n",
    "        \n",
    "    elif opcion == 4:   #Llamada a la función círculo\n",
    "        \n",
    "        radio = int(input(\"Longitud del radio: \"))\n",
    "        resultado = circulo(radio)\n",
    "        print(\"El área del círculo es\",resultado)\n",
    "    \n",
    "    elif opcion == 5:    #Llamada a la función icosaedro\n",
    "        \n",
    "        arista = int(input(\"Longitud de la arista: \"))\n",
    "        resultado = icosaedro(arista)\n",
    "        print(\"El volumen del icosaedro es\",resultado)\n",
    "    \n",
    "    elif opcion == 6:    #Lllamada a la función menú de nuevo\n",
    "        \n",
    "        menu()\n",
    "        print(\"\\n\")\n",
    "    else:\n",
    "        print(\"No has introducido una opción válida.\")\n",
    "    \n",
    "    opcion = int(input(\"\\n\\nOperación a realizar: \"))    #Volver a pedir el valor de la opción a realizar"
   ]
  }
 ],
 "metadata": {
  "kernelspec": {
   "display_name": "Python 3",
   "language": "python",
   "name": "python3"
  },
  "language_info": {
   "codemirror_mode": {
    "name": "ipython",
    "version": 3
   },
   "file_extension": ".py",
   "mimetype": "text/x-python",
   "name": "python",
   "nbconvert_exporter": "python",
   "pygments_lexer": "ipython3",
   "version": "3.9.1+"
  }
 },
 "nbformat": 4,
 "nbformat_minor": 5
}
