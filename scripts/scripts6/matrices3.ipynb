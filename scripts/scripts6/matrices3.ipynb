{
 "cells": [
  {
   "cell_type": "code",
   "execution_count": null,
   "id": "mental-session",
   "metadata": {},
   "outputs": [],
   "source": [
    "#Este programa genera un vector pidiendo su longitud, y utiliza funciones para leerlo, escribirlo, sumarlo,\n",
    "#restarlo, poner el vector a 0 y a 1."
   ]
  },
  {
   "cell_type": "code",
   "execution_count": null,
   "id": "waiting-traveler",
   "metadata": {},
   "outputs": [],
   "source": [
    "def read_array(a):\n",
    "    return np.random.randint(-20, 50,(a))"
   ]
  },
  {
   "cell_type": "code",
   "execution_count": null,
   "id": "beneficial-finder",
   "metadata": {},
   "outputs": [],
   "source": [
    "def show_array(a):  #Función que muestra los valores del array\n",
    "    print()\n",
    "    for i in a:\n",
    "        print(i, end=\" \")\n",
    "    print()"
   ]
  },
  {
   "cell_type": "code",
   "execution_count": null,
   "id": "canadian-nutrition",
   "metadata": {},
   "outputs": [],
   "source": [
    "def sum_array(a,b,c):  #Función que realiza la suma de dos vectores\n",
    "    \n",
    "    suma = np.empty(c)\n",
    "    for i in range(len(a)):    #Bucle que controla cada valor de los vector y los suma\n",
    "        suma[i] = a[i] + b[i]\n",
    "                \n",
    "    return suma.astype(int)    #astype devuelve la variable en el tipo indicado"
   ]
  },
  {
   "cell_type": "code",
   "execution_count": null,
   "id": "unlimited-perspective",
   "metadata": {},
   "outputs": [],
   "source": [
    "def rest_array(a,b,c):\n",
    "    \n",
    "    resta = np.empty(c)\n",
    "    for i in range(len(a)):    #Bucle que controla cada valor de los vector y los resta\n",
    "        resta[i] = a[i] - b[i]\n",
    "                \n",
    "    return resta.astype(int)   #astype devuelve la variable en el tipo indicado"
   ]
  },
  {
   "cell_type": "code",
   "execution_count": null,
   "id": "bizarre-calcium",
   "metadata": {},
   "outputs": [],
   "source": [
    "def array_zero(a):      #Función que pone a 0 el vector\n",
    "    array = np.zeros(a)\n",
    "    return array.astype(int)  #astype devuelve la variable en el tipo indicado"
   ]
  },
  {
   "cell_type": "code",
   "execution_count": null,
   "id": "cooked-gospel",
   "metadata": {},
   "outputs": [],
   "source": [
    "def array_ones(a):      #Función que pone a 1 el vector\n",
    "    array = np.ones(a)\n",
    "    return array.astype(int)  #astype devuelve la variable en el tipo indicado"
   ]
  },
  {
   "cell_type": "code",
   "execution_count": null,
   "id": "female-timing",
   "metadata": {},
   "outputs": [],
   "source": [
    "def menu():       #Función que realiza la función de menú\n",
    "    print()\n",
    "    print(\"1. Mostrar vector.\")\n",
    "    print(\"2. Sumar vector.\")\n",
    "    print(\"3. Restar vector.\")\n",
    "    print(\"4. Poner a 0 el vector.\")\n",
    "    print(\"5. Poner a 1 el vector.\")\n",
    "    print(\"0. Salir.\\n\\n\")"
   ]
  },
  {
   "cell_type": "code",
   "execution_count": null,
   "id": "educated-equity",
   "metadata": {},
   "outputs": [],
   "source": [
    "import numpy as np"
   ]
  },
  {
   "cell_type": "code",
   "execution_count": null,
   "id": "selected-johnson",
   "metadata": {},
   "outputs": [],
   "source": [
    "longitud = int(input(\"Indica la longitud del vector: \"))\n",
    "print()\n",
    "menu()\n",
    "seleccion= int(input(\"Indica la operación a realizar: \"))\n",
    "vector1 = read_array(longitud)    #Declaramos el vector inicial con la longitud introducida\n",
    "\n",
    "while (seleccion != 0):\n",
    "    \n",
    "    if seleccion == 1:   #Llamamos a la función show_array que muestra el vector\n",
    "        show_array(vector1)\n",
    "        print()\n",
    "        \n",
    "    elif seleccion == 2:  #Establecemos un segundo vector con la misma longitud que el primero y realizamos la \n",
    "                          #suma de los dos vectores mediante la función sum_array, mostrando el resultado por pantalla\n",
    "            \n",
    "        vector2 = read_array(longitud)\n",
    "        calculo = sum_array(vector1, vector2, longitud)\n",
    "        \n",
    "        print(\"\\nLa suma del vector: \",end =\" \")\n",
    "        show_array(vector1)\n",
    "        \n",
    "        print(\"\\ny el vector\", end=\" \")\n",
    "        show_array(vector2)\n",
    "        \n",
    "        print(\"\\ntiene como resultado\")\n",
    "        show_array(calculo)\n",
    "        print()\n",
    "        \n",
    "    elif seleccion == 3:  #Establecemos un segundo vector con la misma longitud que el primero y realizamos la \n",
    "                          #resta de los dos vectores mediante la función rest_array, mostrando el resultado por pantalla\n",
    "            \n",
    "        vector2 = read_array(longitud)\n",
    "        calculo = rest_array(vector1, vector2, longitud)\n",
    "        \n",
    "        print(\"\\nLa resta del vector: \",end =\" \")\n",
    "        show_array(vector1)\n",
    "        \n",
    "        print(\"\\ny el vector\", end=\" \")\n",
    "        show_array(vector2)\n",
    "        \n",
    "        print(\"\\ntiene como resultado\")\n",
    "        show_array(calculo)\n",
    "        print()\n",
    "        \n",
    "    elif seleccion == 4:  #Estblecemos todos los valores del vector a 0 llamando a la función array_zero\n",
    "        \n",
    "        vector1 = array_zero(longitud)\n",
    "        \n",
    "        print(\"\\nEl vector ha sido establecido a 0: \")\n",
    "        show_array(vector1)\n",
    "        print()\n",
    "        \n",
    "    elif seleccion == 5:  #Estblecemos todos los valores del vector a 1 llamando a la función array_ones\n",
    "        \n",
    "        vector1 = array_ones(longitud)\n",
    "        \n",
    "        print(\"\\nEl vector ha sido establecido a 1: \")\n",
    "        show_array(vector1)\n",
    "        print()\n",
    "        \n",
    "    else:\n",
    "        print(\"\\nLa operación escogida no es válida.\")\n",
    "        print()\n",
    "    \n",
    "    menu()\n",
    "    seleccion=int(input(\"Indica la operación a realizar: \"))   #Volvemos a pedir operación para no parar el programa."
   ]
  }
 ],
 "metadata": {
  "kernelspec": {
   "display_name": "Python 3",
   "language": "python",
   "name": "python3"
  },
  "language_info": {
   "codemirror_mode": {
    "name": "ipython",
    "version": 3
   },
   "file_extension": ".py",
   "mimetype": "text/x-python",
   "name": "python",
   "nbconvert_exporter": "python",
   "pygments_lexer": "ipython3",
   "version": "3.9.2"
  }
 },
 "nbformat": 4,
 "nbformat_minor": 5
}
