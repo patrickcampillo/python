{
 "cells": [
  {
   "cell_type": "code",
   "execution_count": 62,
   "id": "mental-session",
   "metadata": {},
   "outputs": [],
   "source": [
    "#Este programa genera un vector pidiendo su longitud, y utiliza funciones para leerlo, escribirlo, sumarlo,\n",
    "#restarlo, poner el vector a 0 y a 1."
   ]
  },
  {
   "cell_type": "code",
   "execution_count": 63,
   "id": "waiting-traveler",
   "metadata": {},
   "outputs": [],
   "source": [
    "def read_array(a):\n",
    "    return np.random.randint(0, 50,(a))"
   ]
  },
  {
   "cell_type": "code",
   "execution_count": 64,
   "id": "beneficial-finder",
   "metadata": {},
   "outputs": [],
   "source": [
    "def show_array(a):  #Función que muestra los valores del array\n",
    "    print()\n",
    "    for i in a:\n",
    "        print(i, end=\" \")\n",
    "    print()"
   ]
  },
  {
   "cell_type": "code",
   "execution_count": 65,
   "id": "canadian-nutrition",
   "metadata": {},
   "outputs": [],
   "source": [
    "def sum_array(a,b,c):  #Función que realiza la suma de dos vectores\n",
    "    \n",
    "    suma = np.ones(c)\n",
    "    for i in range(len(a)):    #Bucle que controla cada valor de los vector y los suma\n",
    "        suma[i] = a[i] + b[i]\n",
    "                \n",
    "    return suma "
   ]
  },
  {
   "cell_type": "code",
   "execution_count": 66,
   "id": "unlimited-perspective",
   "metadata": {},
   "outputs": [],
   "source": [
    "def rest_array(a,b,c):\n",
    "    \n",
    "    resta = np.ones(c)\n",
    "    for i in range(len(a)):    #Bucle que controla cada valor de los vector y los resta\n",
    "        resta[i] = a[i] - b[i]\n",
    "                \n",
    "    return resta"
   ]
  },
  {
   "cell_type": "code",
   "execution_count": 67,
   "id": "bizarre-calcium",
   "metadata": {},
   "outputs": [],
   "source": [
    "def array_zero(a):\n",
    "    return np.zeros(a)"
   ]
  },
  {
   "cell_type": "code",
   "execution_count": 68,
   "id": "cooked-gospel",
   "metadata": {},
   "outputs": [],
   "source": [
    "def array_ones(a):\n",
    "    return np.ones(a)"
   ]
  },
  {
   "cell_type": "code",
   "execution_count": 69,
   "id": "female-timing",
   "metadata": {},
   "outputs": [],
   "source": [
    "def menu():       #Función que realiza la función de menú\n",
    "    print()\n",
    "    print(\"1. Mostrar vector.\")\n",
    "    print(\"2. Sumar vector.\")\n",
    "    print(\"3. Restar vector.\")\n",
    "    print(\"4. Poner a 0 el vector.\")\n",
    "    print(\"5. Poner a 1 el vector.\")\n",
    "    print(\"0. Salir.\\n\\n\")"
   ]
  },
  {
   "cell_type": "code",
   "execution_count": 70,
   "id": "educated-equity",
   "metadata": {},
   "outputs": [],
   "source": [
    "import numpy as np"
   ]
  },
  {
   "cell_type": "code",
   "execution_count": null,
   "id": "selected-johnson",
   "metadata": {},
   "outputs": [
    {
     "name": "stdout",
     "output_type": "stream",
     "text": [
      "\n",
      "1. Mostrar vector.\n",
      "2. Sumar vector.\n",
      "3. Restar vector.\n",
      "4. Poner a 0 el vector.\n",
      "5. Poner a 1 el vector.\n",
      "0. Salir.\n",
      "\n",
      "\n",
      "Indica la longitud del vector: 2\n",
      "Indica la operación a realizar: 2\n",
      "\n",
      "La suma del vector:  \n",
      "25 11 \n",
      "\n",
      "y el vector \n",
      "24 17 \n",
      "\n",
      "tiene como resultado\n",
      "\n",
      "49.0 28.0 \n",
      "\n",
      "\n",
      "1. Mostrar vector.\n",
      "2. Sumar vector.\n",
      "3. Restar vector.\n",
      "4. Poner a 0 el vector.\n",
      "5. Poner a 1 el vector.\n",
      "0. Salir.\n",
      "\n",
      "\n"
     ]
    }
   ],
   "source": [
    "menu()\n",
    "longitud = int(input(\"Indica la longitud del vector: \"))\n",
    "seleccion= int(input(\"Indica la operación a realizar: \"))\n",
    "vector1 = read_array(longitud)\n",
    "while (seleccion != 0):\n",
    "    \n",
    "    if seleccion == 1:\n",
    "        show_array(vector1)\n",
    "        print()\n",
    "        \n",
    "    elif seleccion == 2:\n",
    "        vector2 = read_array(longitud)\n",
    "        calculo = sum_array(vector1, vector2, longitud)\n",
    "        print(\"\\nLa suma del vector: \",end =\" \")\n",
    "        show_array(vector1)\n",
    "        print(\"\\ny el vector\", end=\" \")\n",
    "        show_array(vector2)\n",
    "        print(\"\\ntiene como resultado\")\n",
    "        show_array(calculo)\n",
    "        print()\n",
    "        \n",
    "    elif seleccion == 3:\n",
    "        vector2 = read_array(longitud)\n",
    "        calculo = rest_array(vector1, vector2, longitud)\n",
    "        print(\"\\nLa resta del vector: \",end =\" \")\n",
    "        show_array(vector1)\n",
    "        print(\"\\ny el vector\", end=\" \")\n",
    "        show_array(vector2)\n",
    "        print(\"\\ntiene como resultado\")\n",
    "        show_array(calculo)\n",
    "        print()\n",
    "        \n",
    "    elif seleccion == 4:\n",
    "        vector1 = array_zero(longitud)\n",
    "        print(\"\\nEl vector ha sido establecido a 0: \",show_array(vector1))\n",
    "        print()\n",
    "        \n",
    "    elif seleccion == 5:\n",
    "        vector1 = array_ones(longitud)\n",
    "        print(\"\\nEl vector ha sido establecido a 1: \",show_array(vector1))\n",
    "        print()\n",
    "        \n",
    "    else:\n",
    "        print(\"\\nLa operación escogida no es válida.\")\n",
    "        print()\n",
    "    \n",
    "    menu()\n",
    "    seleccion=int(input(\"Indica la operación a realizar: \"))   #Volvemos a pedir operación para no parar el programa."
   ]
  },
  {
   "cell_type": "code",
   "execution_count": null,
   "id": "afraid-metro",
   "metadata": {},
   "outputs": [],
   "source": []
  },
  {
   "cell_type": "code",
   "execution_count": null,
   "id": "tracked-louisiana",
   "metadata": {},
   "outputs": [],
   "source": []
  }
 ],
 "metadata": {
  "kernelspec": {
   "display_name": "Python 3",
   "language": "python",
   "name": "python3"
  },
  "language_info": {
   "codemirror_mode": {
    "name": "ipython",
    "version": 3
   },
   "file_extension": ".py",
   "mimetype": "text/x-python",
   "name": "python",
   "nbconvert_exporter": "python",
   "pygments_lexer": "ipython3",
   "version": "3.9.1+"
  }
 },
 "nbformat": 4,
 "nbformat_minor": 5
}
