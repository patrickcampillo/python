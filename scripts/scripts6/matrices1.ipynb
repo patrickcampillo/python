{
 "cells": [
  {
   "cell_type": "code",
   "execution_count": null,
   "id": "forbidden-invalid",
   "metadata": {},
   "outputs": [],
   "source": [
    "#Programa que muestra una matrzi cuadrada y calcula la suma de la diagonal principal"
   ]
  },
  {
   "cell_type": "code",
   "execution_count": null,
   "id": "amateur-clone",
   "metadata": {},
   "outputs": [],
   "source": [
    "import numpy as np    #importamos la libereria numpy"
   ]
  },
  {
   "cell_type": "code",
   "execution_count": null,
   "id": "stopped-salon",
   "metadata": {},
   "outputs": [],
   "source": [
    "#Declaramos la matriz utilizando np.array.randomint, para generar un array cuadrado de 4, con números aleatorios\n",
    "#entre -10 y 20\n",
    "matriz = np.random.randint(-10, 20, (4,4))"
   ]
  },
  {
   "cell_type": "code",
   "execution_count": null,
   "id": "fuzzy-request",
   "metadata": {},
   "outputs": [],
   "source": [
    "def show_matrix(a):  #Función que muestra las matrices ordenadas por columna\n",
    "    for i in a:\n",
    "        for valor in i:\n",
    "            print(\"\\t\", valor, end=\" \")   #El valor \\t añade una tabulación a la salida, y se le indica con el end que no salte de línea\n",
    "        print(\"\\n\")"
   ]
  },
  {
   "cell_type": "code",
   "execution_count": null,
   "id": "focal-water",
   "metadata": {},
   "outputs": [],
   "source": [
    "def sum_matrix(a):  #Función que realiza la suma de los números que no se encuentran en la diagonal principal\n",
    "    \n",
    "    suma = 0\n",
    "    \n",
    "    for i in range(len(a)):    #Bucle que controla cada array de la matriz\n",
    "        \n",
    "        for s in range(len(a)):   #Bucle que controla cada valor del array\n",
    "            \n",
    "            if ( s != i ):  #Si la posición del array no es igual a la posición de este en la matriz\n",
    "                                     #realiza la suma, sino no.\n",
    "                valor = a[i][s]\n",
    "                suma = suma + valor\n",
    "                \n",
    "    return suma            "
   ]
  },
  {
   "cell_type": "code",
   "execution_count": null,
   "id": "civil-colonial",
   "metadata": {},
   "outputs": [],
   "source": [
    "print(\"La matriz es:\\n\") #mostramos la matriz utilizando la función show_matrix()\n",
    "show_matrix(matriz)\n",
    "\n",
    "resultado = (sum_matrix(matriz)) #Almacenamos la suma de la matriz, calculada con la función sum_matrix()\n",
    "print(\"La suma de los números que no se encuentran en la diagonal da un resultado de\",resultado)"
   ]
  }
 ],
 "metadata": {
  "kernelspec": {
   "display_name": "Python 3",
   "language": "python",
   "name": "python3"
  },
  "language_info": {
   "codemirror_mode": {
    "name": "ipython",
    "version": 3
   },
   "file_extension": ".py",
   "mimetype": "text/x-python",
   "name": "python",
   "nbconvert_exporter": "python",
   "pygments_lexer": "ipython3",
   "version": "3.9.2"
  }
 },
 "nbformat": 4,
 "nbformat_minor": 5
}
