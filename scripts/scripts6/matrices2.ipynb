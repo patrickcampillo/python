{
 "cells": [
  {
   "cell_type": "code",
   "execution_count": null,
   "id": "variable-yesterday",
   "metadata": {},
   "outputs": [],
   "source": [
    "#Este programa muestra una matriz de orden 3x4 ordenada por columnas"
   ]
  },
  {
   "cell_type": "code",
   "execution_count": null,
   "id": "tamil-shield",
   "metadata": {},
   "outputs": [],
   "source": [
    "def show_matrix(a):  #Función que muestra las matrices ordenadas por columna\n",
    "    for i in a:\n",
    "        for valor in i:\n",
    "            print(\"\\t\", valor, end=\" \")   #El valor \\t añade una tabulación a la salida, y se le indica con el end que no salte de línea\n",
    "        print(\"\\n\")"
   ]
  },
  {
   "cell_type": "code",
   "execution_count": null,
   "id": "polyphonic-planning",
   "metadata": {},
   "outputs": [],
   "source": [
    "import numpy as np"
   ]
  },
  {
   "cell_type": "code",
   "execution_count": null,
   "id": "extreme-exemption",
   "metadata": {},
   "outputs": [],
   "source": [
    "#Usamos la opción randomint para generar números aleatorios entre 0 y 50,\n",
    "#y generar una mariz de 3x4\n",
    "matriz = np.random.randint(0, 50,(3,4))\n",
    "show_matrix(matriz)"
   ]
  }
 ],
 "metadata": {
  "kernelspec": {
   "display_name": "Python 3",
   "language": "python",
   "name": "python3"
  },
  "language_info": {
   "codemirror_mode": {
    "name": "ipython",
    "version": 3
   },
   "file_extension": ".py",
   "mimetype": "text/x-python",
   "name": "python",
   "nbconvert_exporter": "python",
   "pygments_lexer": "ipython3",
   "version": "3.9.1+"
  }
 },
 "nbformat": 4,
 "nbformat_minor": 5
}
