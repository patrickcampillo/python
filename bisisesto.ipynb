{
 "cells": [
  {
   "cell_type": "code",
   "execution_count": 47,
   "metadata": {},
   "outputs": [],
   "source": [
    "#Presentación"
   ]
  },
  {
   "cell_type": "code",
   "execution_count": 48,
   "metadata": {},
   "outputs": [
    {
     "name": "stdout",
     "output_type": "stream",
     "text": [
      "Este programa calcula si el año introducido es bisiesto.\n"
     ]
    }
   ],
   "source": [
    "print(\"Este programa calcula si el año introducido es bisiesto.\")"
   ]
  },
  {
   "cell_type": "code",
   "execution_count": 49,
   "metadata": {},
   "outputs": [],
   "source": [
    "#Pedir los datos"
   ]
  },
  {
   "cell_type": "code",
   "execution_count": 50,
   "metadata": {},
   "outputs": [
    {
     "name": "stdout",
     "output_type": "stream",
     "text": [
      "Introduce un año: 1582\n"
     ]
    }
   ],
   "source": [
    "year = int(input('Introduce un año: '))"
   ]
  },
  {
   "cell_type": "code",
   "execution_count": 51,
   "metadata": {},
   "outputs": [],
   "source": [
    "#Cálculos de comporbación si un año es bisiesto"
   ]
  },
  {
   "cell_type": "code",
   "execution_count": 52,
   "metadata": {},
   "outputs": [
    {
     "name": "stdout",
     "output_type": "stream",
     "text": [
      "El año no es bisiesto.\n"
     ]
    }
   ],
   "source": [
    "#Si es divisible entre 4 es bisiesto\n",
    "if year % 4 == 0:\n",
    "    #Aunque sea divisible entre 4, si es divisble entre 100 puede no ser bisiesto.\n",
    "    if year % 100 == 0:\n",
    "        #Y sí es divisible entre 100, debe serlo también de 400 para ser bisiesto.\n",
    "        if year % 400 == 0:\n",
    "            print('El año es bisiesto.')\n",
    "        else:\n",
    "            print('El año no es bisiesto.')\n",
    "    else:\n",
    "        print('El año es bisiesto.')\n",
    "else:\n",
    "    print('El año no es bisiesto.')"
   ]
  }
 ],
 "metadata": {
  "kernelspec": {
   "display_name": "Python 3",
   "language": "python",
   "name": "python3"
  },
  "language_info": {
   "codemirror_mode": {
    "name": "ipython",
    "version": 3
   },
   "file_extension": ".py",
   "mimetype": "text/x-python",
   "name": "python",
   "nbconvert_exporter": "python",
   "pygments_lexer": "ipython3",
   "version": "3.8.6"
  }
 },
 "nbformat": 4,
 "nbformat_minor": 4
}
