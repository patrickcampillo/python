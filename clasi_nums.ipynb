{
 "cells": [
  {
   "cell_type": "code",
   "execution_count": null,
   "metadata": {},
   "outputs": [],
   "source": [
    "#Presentación"
   ]
  },
  {
   "cell_type": "code",
   "execution_count": 78,
   "metadata": {
    "scrolled": true
   },
   "outputs": [
    {
     "name": "stdout",
     "output_type": "stream",
     "text": [
      "Este programa clasifica números enteros introducidos por teclado. Para finalizar el programa introduzca 0.\n",
      "\n"
     ]
    }
   ],
   "source": [
    "print(\"Este programa clasifica números enteros introducidos por teclado. Para finalizar el programa introduzca 0.\\n\")"
   ]
  },
  {
   "cell_type": "code",
   "execution_count": 79,
   "metadata": {},
   "outputs": [],
   "source": [
    "#Pedir número."
   ]
  },
  {
   "cell_type": "code",
   "execution_count": 80,
   "metadata": {},
   "outputs": [
    {
     "name": "stdout",
     "output_type": "stream",
     "text": [
      "Introduza un número entero: 4\n"
     ]
    }
   ],
   "source": [
    "num=int(input(\"Introduza un número entero: \"))"
   ]
  },
  {
   "cell_type": "code",
   "execution_count": 81,
   "metadata": {},
   "outputs": [],
   "source": [
    "#Comprobar si el número es primo"
   ]
  },
  {
   "cell_type": "code",
   "execution_count": 82,
   "metadata": {},
   "outputs": [],
   "source": [
    "#Variable de control sobre la posibilidad de ser número primo\n",
    "primo=1\n",
    "\n",
    "#Bucle de comprobación de número primo\n",
    "for i in range(2, num):\n",
    "    if (num % i == 0):\n",
    "        primo=0"
   ]
  },
  {
   "cell_type": "code",
   "execution_count": 83,
   "metadata": {},
   "outputs": [],
   "source": [
    "#Comprobar si el número es potencia de base 2"
   ]
  },
  {
   "cell_type": "code",
   "execution_count": 84,
   "metadata": {},
   "outputs": [],
   "source": [
    "#Comprobación si el número es 2, ya que al bucle no entraría.\n",
    "if (num == 2):\n",
    "    pot=1\n",
    "\n",
    "else:\n",
    "    #Variables de control sobre la posibilidad de ser potencia de base 2\n",
    "    resto=num%2\n",
    "    pot=0\n",
    "    div=num\n",
    "    \n",
    "    #Bucle de comprobación si es una potencia de base 2\n",
    "    while resto == 0:\n",
    "        div=div/2\n",
    "        resto=div%2\n",
    "        \n",
    "        if (div == 2):\n",
    "            pot=1    "
   ]
  },
  {
   "cell_type": "code",
   "execution_count": 85,
   "metadata": {},
   "outputs": [],
   "source": [
    "#Comprobar si el número es mayor que 30.\n",
    "if (num >= 30):\n",
    "    print (\"El número introducido es igual o mayor que 30.\")\n",
    "\n",
    "#Comprobar si el número es negativo.\n",
    "elif (num < 0):\n",
    "    print(\"El número introducido es negativo.\")"
   ]
  },
  {
   "cell_type": "code",
   "execution_count": 86,
   "metadata": {},
   "outputs": [
    {
     "name": "stdout",
     "output_type": "stream",
     "text": [
      "El número es compuesto.\n"
     ]
    }
   ],
   "source": [
    "#Mostrar si el número es primo.\n",
    "if (primo == 1):\n",
    "    print (\"El número introducido es primo.\")\n",
    "\n",
    "#Comprobar si es un número compuesto.\n",
    "elif (primo == 0):\n",
    "    print(\"El número es compuesto.\")"
   ]
  },
  {
   "cell_type": "code",
   "execution_count": 87,
   "metadata": {},
   "outputs": [
    {
     "name": "stdout",
     "output_type": "stream",
     "text": [
      "El número es potencia de base 2.\n"
     ]
    }
   ],
   "source": [
    "#Mostrar si el número es potencia de base 2.\n",
    "if (pot == 1):\n",
    "    print (\"El número es potencia de base 2.\")"
   ]
  }
 ],
 "metadata": {
  "kernelspec": {
   "display_name": "Python 3",
   "language": "python",
   "name": "python3"
  },
  "language_info": {
   "codemirror_mode": {
    "name": "ipython",
    "version": 3
   },
   "file_extension": ".py",
   "mimetype": "text/x-python",
   "name": "python",
   "nbconvert_exporter": "python",
   "pygments_lexer": "ipython3",
   "version": "3.8.6"
  }
 },
 "nbformat": 4,
 "nbformat_minor": 4
}
